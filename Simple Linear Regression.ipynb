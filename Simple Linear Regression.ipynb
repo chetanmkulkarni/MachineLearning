{
 "cells": [
  {
   "cell_type": "markdown",
   "metadata": {},
   "source": [
    "## Problem 3\n",
    "\n",
    "Description\n",
    "Perform a simple regression analysis of Honeywell stock prices versus periods (i.e., 1, 2, 3,…) to forecast the Honeywell stock value for 4/16/2018. Calculate the MSE of this forecast and compare its value with those obtained from parts (1) and (2) of previous problems.\n",
    "\n",
    "Import Libraries"
   ]
  },
  {
   "cell_type": "code",
   "execution_count": 2,
   "metadata": {},
   "outputs": [],
   "source": [
    "import numpy as np\n",
    "import pandas as pd\n",
    "import seaborn as sns\n",
    "import scipy\n",
    "from scipy import stats\n",
    "import matplotlib.pyplot as plt\n",
    "import statsmodels.api as sm\n",
    "from statsmodels.stats import diagnostic as diag\n",
    "from statsmodels.stats.outliers_influence import variance_inflation_factor\n",
    "from sklearn.linear_model import LinearRegression\n",
    "from sklearn.model_selection import train_test_split\n",
    "from sklearn.metrics import mean_squared_error, r2_score, mean_absolute_error\n",
    "from scipy.stats import gamma,dgamma,chi2,norm\n",
    "%matplotlib inline"
   ]
  },
  {
   "cell_type": "markdown",
   "metadata": {},
   "source": [
    "Read the honeywell file and write it to a dataframe"
   ]
  },
  {
   "cell_type": "code",
   "execution_count": 3,
   "metadata": {},
   "outputs": [],
   "source": [
    "df = pd.read_excel(\"Honeywell.xlsx\")\n",
    "cols = df.columns.values\n",
    "cols = ['Period', 'Date', 'Close', 'Volume']"
   ]
  },
  {
   "cell_type": "markdown",
   "metadata": {},
   "source": [
    "#### a) Coefficients of correlation and determination, and the interpretations of their values\n",
    "\n",
    "One of the assumptions of our model is that there isn't any Perfect multicollinearity. Multicollinearity is where one of the explanatory variables is highly correlated with another explanatory variable. In essence, one of the X variables is almost perfectly correlated with another or multiple X variables. Here we do not see such multicollinearity."
   ]
  },
  {
   "cell_type": "code",
   "execution_count": 4,
   "metadata": {},
   "outputs": [
    {
     "data": {
      "text/html": [
       "<div>\n",
       "<style scoped>\n",
       "    .dataframe tbody tr th:only-of-type {\n",
       "        vertical-align: middle;\n",
       "    }\n",
       "\n",
       "    .dataframe tbody tr th {\n",
       "        vertical-align: top;\n",
       "    }\n",
       "\n",
       "    .dataframe thead th {\n",
       "        text-align: right;\n",
       "    }\n",
       "</style>\n",
       "<table border=\"1\" class=\"dataframe\">\n",
       "  <thead>\n",
       "    <tr style=\"text-align: right;\">\n",
       "      <th></th>\n",
       "      <th>Period</th>\n",
       "      <th>Close</th>\n",
       "      <th>Volume</th>\n",
       "    </tr>\n",
       "  </thead>\n",
       "  <tbody>\n",
       "    <tr>\n",
       "      <th>Period</th>\n",
       "      <td>1.000000</td>\n",
       "      <td>0.063095</td>\n",
       "      <td>0.165801</td>\n",
       "    </tr>\n",
       "    <tr>\n",
       "      <th>Close</th>\n",
       "      <td>0.063095</td>\n",
       "      <td>1.000000</td>\n",
       "      <td>0.291918</td>\n",
       "    </tr>\n",
       "    <tr>\n",
       "      <th>Volume</th>\n",
       "      <td>0.165801</td>\n",
       "      <td>0.291918</td>\n",
       "      <td>1.000000</td>\n",
       "    </tr>\n",
       "  </tbody>\n",
       "</table>\n",
       "</div>"
      ],
      "text/plain": [
       "          Period     Close    Volume\n",
       "Period  1.000000  0.063095  0.165801\n",
       "Close   0.063095  1.000000  0.291918\n",
       "Volume  0.165801  0.291918  1.000000"
      ]
     },
     "metadata": {},
     "output_type": "display_data"
    },
    {
     "data": {
      "text/plain": [
       "<matplotlib.axes._subplots.AxesSubplot at 0x1c1a795908>"
      ]
     },
     "execution_count": 4,
     "metadata": {},
     "output_type": "execute_result"
    },
    {
     "data": {
      "image/png": "[encoded data removed]",
      "text/plain": [
       "<Figure size 432x288 with 2 Axes>"
      ]
     },
     "metadata": {
      "needs_background": "light"
     },
     "output_type": "display_data"
    }
   ],
   "source": [
    "# calculate the correlation matrix\n",
    "corr = df.corr()\n",
    "# display the correlation matrix\n",
    "display(corr)\n",
    "# plot the correlation heatmap\n",
    "sns.heatmap(corr, xticklabels=corr.columns, yticklabels=corr.columns, cmap='RdBu',annot = True)"
   ]
  },
  {
   "cell_type": "markdown",
   "metadata": {},
   "source": [
    "### Simple Linear Regression \n",
    "\n",
    "The first thing we need to do is, define our exploratory variables and our explanatory variable. From here, let's split the data into a training and testing set. After splitting the data, we will create an instance of the linear regression model and pass through the X_train and y_train variables using the fit() function."
   ]
  },
  {
   "cell_type": "code",
   "execution_count": 5,
   "metadata": {},
   "outputs": [],
   "source": [
    "period = [i for i in range(124)]\n",
    "close = df['Close']\n",
    "\n",
    "X = df[['Period']]\n",
    "y = df[['Close']]\n",
    "# Split X and y into X_\n",
    "X_train, X_test, y_train, y_test = train_test_split(X, y)"
   ]
  },
  {
   "cell_type": "code",
   "execution_count": 6,
   "metadata": {},
   "outputs": [
    {
     "data": {
      "text/plain": [
       "<matplotlib.collections.PathCollection at 0x1c1ab48080>"
      ]
     },
     "execution_count": 6,
     "metadata": {},
     "output_type": "execute_result"
    },
    {
     "data": {
      "image/png": "[encoded data removed]",
      "text/plain": [
       "<Figure size 432x288 with 1 Axes>"
      ]
     },
     "metadata": {
      "needs_background": "light"
     },
     "output_type": "display_data"
    }
   ],
   "source": [
    "plt.scatter(period, close , marker='o')"
   ]
  },
  {
   "cell_type": "code",
   "execution_count": 7,
   "metadata": {},
   "outputs": [
    {
     "data": {
      "text/plain": [
       "LinearRegression(copy_X=True, fit_intercept=True, n_jobs=None,\n",
       "         normalize=False)"
      ]
     },
     "execution_count": 7,
     "metadata": {},
     "output_type": "execute_result"
    }
   ],
   "source": [
    "# create a Linear Regression model object\n",
    "regression_model = LinearRegression()\n",
    "regression_model.fit(X, y)"
   ]
  },
  {
   "cell_type": "markdown",
   "metadata": {},
   "source": [
    "#### Intercept and Coefficient\n",
    "With the data now fitted to the model, we can explore the output. The first thing we should do is look at the intercept of the model, and then we will print out each of the coefficients of the model.\n",
    "\n",
    "The intercept term is the value of the dependent variable when all the independent variables are equal to zero. For each slope coefficient, it is the estimated change in the dependent variable for a one unit change in that particular independent variable, holding the other independent variables constant.\n",
    "\n",
    "For example, if all the independent variables were equal to zero, then the close value of honeywell would be 150. If we looked at the close value while holding all the other independent variables constant, then we would say for a 1 unit increase in close value would lead to a 0.0089% increase in close value"
   ]
  },
  {
   "cell_type": "code",
   "execution_count": 8,
   "metadata": {},
   "outputs": [],
   "source": [
    "intercept = regression_model.intercept_[0]\n",
    "coefficent = regression_model.coef_[0][0]"
   ]
  },
  {
   "cell_type": "code",
   "execution_count": 9,
   "metadata": {},
   "outputs": [
    {
     "name": "stdout",
     "output_type": "stream",
     "text": [
      "The Intercept for our model is 150.4\n",
      "----------------------------------------------------------------------------------------------------\n",
      "The Coefficient for Period is 0.0089\n"
     ]
    }
   ],
   "source": [
    "print(\"The Intercept for our model is {:.4}\".format(intercept))\n",
    "print('-'*100)\n",
    "for coef in zip(X.columns, regression_model.coef_[0]):\n",
    "    print(\"The Coefficient for {} is {:.2}\".format(coef[0],coef[1]))"
   ]
  },
  {
   "cell_type": "markdown",
   "metadata": {},
   "source": [
    "#### Prediction \n",
    "We can also now make predictions with our newly trained model. The process is simple; we call the predict method and then pass through some values. In this case, we have some values predefined with the X variable so we will pass that through. Once we do that, we can select the predictions by slicing the array."
   ]
  },
  {
   "cell_type": "code",
   "execution_count": 36,
   "metadata": {},
   "outputs": [],
   "source": [
    "y_predict = regression_model.predict(X)"
   ]
  },
  {
   "cell_type": "markdown",
   "metadata": {},
   "source": [
    "The Predicted value for 16th April"
   ]
  },
  {
   "cell_type": "code",
   "execution_count": 44,
   "metadata": {},
   "outputs": [
    {
     "name": "stdout",
     "output_type": "stream",
     "text": [
      "The Predicted value for April 16th 2018 = 151.46049829458065\n"
     ]
    }
   ],
   "source": [
    "print(\"The Predicted value for April 16th 2018 =\", intercept + coefficent * 124)"
   ]
  },
  {
   "cell_type": "markdown",
   "metadata": {},
   "source": [
    "#### Model Evaluation"
   ]
  },
  {
   "cell_type": "code",
   "execution_count": 30,
   "metadata": {},
   "outputs": [
    {
     "name": "stdout",
     "output_type": "stream",
     "text": [
      "Root mean square is 25.541940457019386\n",
      "R2 is 0.003980965261022873\n"
     ]
    }
   ],
   "source": [
    "# model evaluation\n",
    "mse = mean_squared_error(y, y_predict)\n",
    "r2 = r2_score(y, y_predict)\n",
    "\n",
    "print(\"Root mean square is\",mse)\n",
    "print(\"R2 is\",r2)"
   ]
  },
  {
   "cell_type": "markdown",
   "metadata": {},
   "source": [
    "#### b) A histogram of the regression residuals, and the interpretation of its shape\n",
    "Calculate the residuals = Observed - Predicted"
   ]
  },
  {
   "cell_type": "code",
   "execution_count": 27,
   "metadata": {},
   "outputs": [],
   "source": [
    "residuals = [float(df['Close'][i] - y_predict[i]) for i in range(124)]"
   ]
  },
  {
   "cell_type": "code",
   "execution_count": 18,
   "metadata": {},
   "outputs": [
    {
     "data": {
      "image/png": "[encoded data removed]",
      "text/plain": [
       "<Figure size 432x288 with 1 Axes>"
      ]
     },
     "metadata": {
      "needs_background": "light"
     },
     "output_type": "display_data"
    }
   ],
   "source": [
    "plt.hist(residuals, bins=20)  # arguments are passed to np.histogram\n",
    "plt.title(\"Histogram with  bins\")\n",
    "plt.show()"
   ]
  },
  {
   "cell_type": "markdown",
   "metadata": {},
   "source": [
    "### Chi Square goodness of fit test\n",
    "c) A Chi-squared normality test of the residuals, and the interpretation of its outputs\n",
    "Given simple linear equation Y = Β0 + Β1X\n",
    "\n",
    "Null hypothesis (H0)= The expected and observed are of same distribution\n",
    "Alternative hypothesis (H1)= The expected and observed are of not of same distribution\n",
    "\n",
    "To find the Normal distribution. We follow the below steps\n",
    "\n",
    "1) Take the Mean and Standard deviation of the logarithmic sample, the shape(mean**2)/var) and the scale (mean/var) parameters are estimated by using the sample data (along with the Maximum Likelihood Principle)\n",
    "\n",
    "2) Check the Min and Max of the given array and based on those, we can decide on bins, and each bin having a width of equal units"
   ]
  },
  {
   "cell_type": "code",
   "execution_count": 19,
   "metadata": {},
   "outputs": [
    {
     "name": "stdout",
     "output_type": "stream",
     "text": [
      "0.1 -1.2815515655446004 -6.4768379260167235\n",
      "0.2 -0.8416212335729142 -4.2534724871797\n",
      "0.3 -0.5244005127080409 -2.6502695798172695\n",
      "0.4 -0.2533471031357997 -1.2803918079871517\n",
      "0.5 0.0 2.521280675277775e-15\n",
      "0.6 0.2533471031357997 1.2803918079871566\n",
      "0.7 0.5244005127080407 2.650269579817274\n",
      "0.8 0.8416212335729143 4.253472487179705\n",
      "0.9 1.2815515655446004 6.476837926016729\n"
     ]
    }
   ],
   "source": [
    "residual = np.mean(residuals)\n",
    "std_dev = np.std(residuals)\n",
    "\n",
    "bins = [-float('inf')]\n",
    "#bin \n",
    "for i in range(9):\n",
    "    #percentile of each value of i\n",
    "    p = (i+1)/10\n",
    "    #Z statistic of normal probability\n",
    "    z = norm.ppf(p)\n",
    "    #upper bound and lower bound calculation\n",
    "    bound = residual+z*std_dev\n",
    "    print(p, format(z), format(bound))\n",
    "    bins.append((bound))\n",
    "bins.append(float('inf'))"
   ]
  },
  {
   "cell_type": "markdown",
   "metadata": {},
   "source": [
    "To calculate chi square we need to have both observed and expected values - below is to calculate observed and expected\n",
    "\n",
    "List named Observed_Values is created\n",
    "\n",
    "Append the observed values comparing each values in x_array list with upper and lower bound values"
   ]
  },
  {
   "cell_type": "code",
   "execution_count": 47,
   "metadata": {},
   "outputs": [
    {
     "name": "stdout",
     "output_type": "stream",
     "text": [
      "Chisquare value for Residuals is 8.677966101694915\n"
     ]
    },
    {
     "name": "stderr",
     "output_type": "stream",
     "text": [
      "/anaconda3/lib/python3.7/site-packages/ipykernel_launcher.py:7: RuntimeWarning: divide by zero encountered in long_scalars\n",
      "  import sys\n"
     ]
    }
   ],
   "source": [
    "frequency = []\n",
    "for i in range(10):\n",
    "    observed, expected = sum(num >= bins[i] and num < bins[i+1] \n",
    "                             for num in df.Period), 150\n",
    "    #print '{:2d}'format(observed),expected\n",
    "    frequency.append((observed,expected))\n",
    "    chi_square =(expected-observed)**2/observed\n",
    "    chisquare_value = chi_square.sum()\n",
    "    \n",
    "print(\"Chisquare value for Residuals is\",chisquare_value)"
   ]
  },
  {
   "cell_type": "markdown",
   "metadata": {},
   "source": [
    "#### d) A Normal probability plot of the residuals\n",
    "\n",
    "Based on the Normal probability plot we can say the residuals are normally distributed."
   ]
  },
  {
   "cell_type": "code",
   "execution_count": 88,
   "metadata": {},
   "outputs": [],
   "source": [
    "# define our intput\n",
    "X2 = sm.add_constant(X) # create a OLS model\n",
    "model = sm.OLS(Y, X2)\n",
    "# fit the data\n",
    "est = model.fit()"
   ]
  },
  {
   "cell_type": "code",
   "execution_count": 89,
   "metadata": {},
   "outputs": [
    {
     "data": {
      "image/png": "[encoded data removed]",
      "text/plain": [
       "<Figure size 432x288 with 1 Axes>"
      ]
     },
     "metadata": {
      "needs_background": "light"
     },
     "output_type": "display_data"
    },
    {
     "name": "stdout",
     "output_type": "stream",
     "text": [
      "The mean of the residuals is 2.361e-14\n"
     ]
    }
   ],
   "source": [
    "import pylab\n",
    "# check for the normality of the residuals\n",
    "sm.qqplot(est.resid, line='s')\n",
    "pylab.show()\n",
    "# also check that the mean of the residuals is approx. 0.\n",
    "mean_residuals = sum(est.resid)/ len(est.resid)\n",
    "print(\"The mean of the residuals is {:.4}\".format(mean_residuals))"
   ]
  },
  {
   "cell_type": "markdown",
   "metadata": {},
   "source": [
    "e.\tA scatter plot of residuals versus time to study their independency, and the interpretation of the shape of the scatter plot"
   ]
  },
  {
   "cell_type": "code",
   "execution_count": 31,
   "metadata": {},
   "outputs": [
    {
     "data": {
      "text/plain": [
       "<matplotlib.collections.PathCollection at 0x1c1c454a20>"
      ]
     },
     "execution_count": 31,
     "metadata": {},
     "output_type": "execute_result"
    },
    {
     "data": {
      "image/png": "[encoded data removed]",
      "text/plain": [
       "<Figure size 432x288 with 1 Axes>"
      ]
     },
     "metadata": {
      "needs_background": "light"
     },
     "output_type": "display_data"
    }
   ],
   "source": [
    "plt.scatter(residuals, period, marker='o')"
   ]
  },
  {
   "cell_type": "markdown",
   "metadata": {},
   "source": [
    "f.\tA scatter plot of residuals versus the predicted stock values to study their homoscedasticity, and the interpretation of the shape of the scatter plot\n",
    "\n",
    "It is not normally distributed."
   ]
  },
  {
   "cell_type": "code",
   "execution_count": 21,
   "metadata": {},
   "outputs": [
    {
     "data": {
      "text/plain": [
       "<matplotlib.collections.PathCollection at 0x1c1ad149e8>"
      ]
     },
     "execution_count": 21,
     "metadata": {},
     "output_type": "execute_result"
    },
    {
     "data": {
      "image/png": "[encoded data removed]",
      "text/plain": [
       "<Figure size 432x288 with 1 Axes>"
      ]
     },
     "metadata": {
      "needs_background": "light"
     },
     "output_type": "display_data"
    }
   ],
   "source": [
    "plt.scatter(y_predict, residuals, marker='o')"
   ]
  },
  {
   "cell_type": "markdown",
   "metadata": {},
   "source": [
    "### Problem 3 - Conclusion\n",
    "\n",
    "1) Chisquare value for Residuals is 8.67, the statistic value with degree of freedom 9 is 14. Since the chi suare value is less than the t-statistic we cannot reject the null hypothesis.\n",
    "\n",
    "2) If all the independent variables were equal to zero, then the stock closure value of honeywell would be 151.46 on the 04/16/2018. Predicted close value of honeywell would be 151.46. If we looked at the close value while holding all the other independent variables constant, then we would say for a 1 unit increase in close value would lead to a 0.0089% increase in close value\n",
    "\n"
   ]
  },
  {
   "attachments": {},
   "cell_type": "markdown",
   "metadata": {},
   "source": [
    "# Problem 4\n",
    "\n",
    "Perform a research to find out the actual Honeywell stock value on 4/16/2018, and compare this true value with your forecasts in this project. Among the forecasting methods that you have used in this project, what method has shown to be actually the most accurate method in predicting the Honeywell stock price for 4/16/2018?\n",
    "\n",
    "The Stock close price on 4/16/2018 as per the Yahoo finance was 140.65, however, the price for 4/13/2018 is also 140.65 the given chart shows values as 143.75 for 4/13/2018. Hence, there is slight discripancy in the input values.\n",
    "\n",
    "Ignorning the discripancy in the input values we can conclude that the forecasted value as below\n",
    "\n",
    "1) Exponential smoothing at alpha 0.75 - 146.11 \n",
    "\n",
    "2) Double exponential smoothing value at alpha 0.75 and beta = 0.15 = 146.07\n",
    "\n",
    "3) Linear regression value of are the values - 151.46 ( Intercept 150 and coeficient 0.0089)\n",
    "\n",
    "**Based on the above description, we can conclude that the double exponential smoothing has given the us the best forecasting value compared to exponential smoothing and simple linear forecasting**"
   ]
  },
  {
   "cell_type": "code",
   "execution_count": null,
   "metadata": {},
   "outputs": [],
   "source": []
  }
 ],
 "metadata": {
  "kernelspec": {
   "display_name": "Python 3",
   "language": "python",
   "name": "python3"
  },
  "language_info": {
   "codemirror_mode": {
    "name": "ipython",
    "version": 3
   },
   "file_extension": ".py",
   "mimetype": "text/x-python",
   "name": "python",
   "nbconvert_exporter": "python",
   "pygments_lexer": "ipython3",
   "version": "3.7.1"
  }
 },
 "nbformat": 4,
 "nbformat_minor": 2
}
