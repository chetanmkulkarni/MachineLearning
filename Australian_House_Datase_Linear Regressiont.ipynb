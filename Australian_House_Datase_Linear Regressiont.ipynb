{
 "cells": [
  {
   "cell_type": "markdown",
   "metadata": {},
   "source": [
    "# Project 2 -  Intermidiate Analytics : Regression\n",
    "\n",
    "## Chetan Kulkarni\n",
    "\n",
    "### Overview of the study\n",
    "\n",
    "Our research study concerns property/housing prices in Australia especially in Queensland and New South Wales. . Australia is experiencing high population growth, generating high demand for housing. This housing boom has increased house prices and rents, as well as the availability of all types of housing. Subdivision regularly occurs in many areas, with numerous developers offering house and land packages. "
   ]
  },
  {
   "cell_type": "code",
   "execution_count": 1391,
   "metadata": {},
   "outputs": [],
   "source": [
    "import pandas as pd\n",
    "import numpy as np\n",
    "import os\n",
    "import seaborn as sns\n",
    "from matplotlib import pyplot as plt\n",
    "from matplotlib.ticker import PercentFormatter\n",
    "from pylab import rcParams\n",
    "rcParams['figure.figsize'] = 23, 8\n",
    "sns.set_style('whitegrid')\n",
    "plt.style.use('seaborn-whitegrid')"
   ]
  },
  {
   "cell_type": "markdown",
   "metadata": {},
   "source": [
    "### Data\n",
    "\n",
    "The data set contains many features that describe characteristics of the property, including the number of bathrooms, bedrooms, state, square_meters, etc. \n",
    "\n",
    "room_type, property_type : property type is house, guest suite etc and room_type is private room, entire home etc\n",
    "\n",
    "country, state : The country is Australia and state is New south wales and Queensland"
   ]
  },
  {
   "cell_type": "code",
   "execution_count": 1392,
   "metadata": {},
   "outputs": [],
   "source": [
    "data = pd.read_csv(\"/Users/chetankulkarni/Documents/Python/ALY6015 - Homework 2 - Australia - Current.csv\")"
   ]
  },
  {
   "cell_type": "code",
   "execution_count": 1393,
   "metadata": {},
   "outputs": [
    {
     "data": {
      "text/html": [
       "<div>\n",
       "<style scoped>\n",
       "    .dataframe tbody tr th:only-of-type {\n",
       "        vertical-align: middle;\n",
       "    }\n",
       "\n",
       "    .dataframe tbody tr th {\n",
       "        vertical-align: top;\n",
       "    }\n",
       "\n",
       "    .dataframe thead th {\n",
       "        text-align: right;\n",
       "    }\n",
       "</style>\n",
       "<table border=\"1\" class=\"dataframe\">\n",
       "  <thead>\n",
       "    <tr style=\"text-align: right;\">\n",
       "      <th></th>\n",
       "      <th>id</th>\n",
       "      <th>country</th>\n",
       "      <th>state</th>\n",
       "      <th>neighbourhood_cleansed</th>\n",
       "      <th>property_type</th>\n",
       "      <th>square_meters</th>\n",
       "      <th>price</th>\n",
       "      <th>room_type</th>\n",
       "      <th>bathrooms</th>\n",
       "      <th>bedrooms</th>\n",
       "      <th>beds</th>\n",
       "    </tr>\n",
       "  </thead>\n",
       "  <tbody>\n",
       "    <tr>\n",
       "      <th>0</th>\n",
       "      <td>3363954</td>\n",
       "      <td>Australia</td>\n",
       "      <td>NSW</td>\n",
       "      <td>BALLINA SHIRE COUNCIL</td>\n",
       "      <td>House</td>\n",
       "      <td>0.00</td>\n",
       "      <td>$2,900.00</td>\n",
       "      <td>Entire home/apt</td>\n",
       "      <td>3.0</td>\n",
       "      <td>4.0</td>\n",
       "      <td>4.0</td>\n",
       "    </tr>\n",
       "    <tr>\n",
       "      <th>1</th>\n",
       "      <td>13048065</td>\n",
       "      <td>Australia</td>\n",
       "      <td>NSW</td>\n",
       "      <td>BALLINA SHIRE COUNCIL</td>\n",
       "      <td>House</td>\n",
       "      <td>1.55</td>\n",
       "      <td>$28.00</td>\n",
       "      <td>Private room</td>\n",
       "      <td>1.0</td>\n",
       "      <td>1.0</td>\n",
       "      <td>1.0</td>\n",
       "    </tr>\n",
       "    <tr>\n",
       "      <th>2</th>\n",
       "      <td>1451202</td>\n",
       "      <td>Australia</td>\n",
       "      <td>NSW</td>\n",
       "      <td>BALLINA SHIRE COUNCIL</td>\n",
       "      <td>Guest suite</td>\n",
       "      <td>15.00</td>\n",
       "      <td>$141.00</td>\n",
       "      <td>Entire home/apt</td>\n",
       "      <td>1.0</td>\n",
       "      <td>1.0</td>\n",
       "      <td>1.0</td>\n",
       "    </tr>\n",
       "    <tr>\n",
       "      <th>3</th>\n",
       "      <td>2345959</td>\n",
       "      <td>Australia</td>\n",
       "      <td>NSW</td>\n",
       "      <td>BALLINA SHIRE COUNCIL</td>\n",
       "      <td>House</td>\n",
       "      <td>16.86</td>\n",
       "      <td>$50.00</td>\n",
       "      <td>Private room</td>\n",
       "      <td>4.0</td>\n",
       "      <td>4.0</td>\n",
       "      <td>3.0</td>\n",
       "    </tr>\n",
       "    <tr>\n",
       "      <th>4</th>\n",
       "      <td>26087141</td>\n",
       "      <td>Australia</td>\n",
       "      <td>NSW</td>\n",
       "      <td>BALLINA SHIRE COUNCIL</td>\n",
       "      <td>House</td>\n",
       "      <td>16.99</td>\n",
       "      <td>$52.00</td>\n",
       "      <td>Private room</td>\n",
       "      <td>1.0</td>\n",
       "      <td>1.0</td>\n",
       "      <td>1.0</td>\n",
       "    </tr>\n",
       "  </tbody>\n",
       "</table>\n",
       "</div>"
      ],
      "text/plain": [
       "         id    country state neighbourhood_cleansed property_type  \\\n",
       "0   3363954  Australia   NSW  BALLINA SHIRE COUNCIL         House   \n",
       "1  13048065  Australia   NSW  BALLINA SHIRE COUNCIL         House   \n",
       "2   1451202  Australia   NSW  BALLINA SHIRE COUNCIL   Guest suite   \n",
       "3   2345959  Australia   NSW  BALLINA SHIRE COUNCIL         House   \n",
       "4  26087141  Australia   NSW  BALLINA SHIRE COUNCIL         House   \n",
       "\n",
       "   square_meters       price        room_type  bathrooms  bedrooms  beds  \n",
       "0           0.00  $2,900.00   Entire home/apt        3.0       4.0   4.0  \n",
       "1           1.55     $28.00      Private room        1.0       1.0   1.0  \n",
       "2          15.00    $141.00   Entire home/apt        1.0       1.0   1.0  \n",
       "3          16.86     $50.00      Private room        4.0       4.0   3.0  \n",
       "4          16.99     $52.00      Private room        1.0       1.0   1.0  "
      ]
     },
     "execution_count": 1393,
     "metadata": {},
     "output_type": "execute_result"
    }
   ],
   "source": [
    "data.head(5)"
   ]
  },
  {
   "cell_type": "markdown",
   "metadata": {},
   "source": [
    "### Exploratory Data Analysis\n",
    "\n",
    "Check for summary of the data"
   ]
  },
  {
   "cell_type": "code",
   "execution_count": 1394,
   "metadata": {},
   "outputs": [
    {
     "data": {
      "text/html": [
       "<div>\n",
       "<style scoped>\n",
       "    .dataframe tbody tr th:only-of-type {\n",
       "        vertical-align: middle;\n",
       "    }\n",
       "\n",
       "    .dataframe tbody tr th {\n",
       "        vertical-align: top;\n",
       "    }\n",
       "\n",
       "    .dataframe thead th {\n",
       "        text-align: right;\n",
       "    }\n",
       "</style>\n",
       "<table border=\"1\" class=\"dataframe\">\n",
       "  <thead>\n",
       "    <tr style=\"text-align: right;\">\n",
       "      <th></th>\n",
       "      <th>id</th>\n",
       "      <th>square_meters</th>\n",
       "      <th>bathrooms</th>\n",
       "      <th>bedrooms</th>\n",
       "      <th>beds</th>\n",
       "    </tr>\n",
       "  </thead>\n",
       "  <tbody>\n",
       "    <tr>\n",
       "      <th>count</th>\n",
       "      <td>3.974000e+03</td>\n",
       "      <td>3974.000000</td>\n",
       "      <td>3969.000000</td>\n",
       "      <td>3972.000000</td>\n",
       "      <td>3973.000000</td>\n",
       "    </tr>\n",
       "    <tr>\n",
       "      <th>mean</th>\n",
       "      <td>1.905941e+07</td>\n",
       "      <td>32.657089</td>\n",
       "      <td>1.637314</td>\n",
       "      <td>2.262840</td>\n",
       "      <td>2.982884</td>\n",
       "    </tr>\n",
       "    <tr>\n",
       "      <th>std</th>\n",
       "      <td>9.691911e+06</td>\n",
       "      <td>12.485803</td>\n",
       "      <td>0.832215</td>\n",
       "      <td>1.368016</td>\n",
       "      <td>1.993749</td>\n",
       "    </tr>\n",
       "    <tr>\n",
       "      <th>min</th>\n",
       "      <td>2.982000e+04</td>\n",
       "      <td>0.000000</td>\n",
       "      <td>0.000000</td>\n",
       "      <td>0.000000</td>\n",
       "      <td>0.000000</td>\n",
       "    </tr>\n",
       "    <tr>\n",
       "      <th>25%</th>\n",
       "      <td>1.147178e+07</td>\n",
       "      <td>24.762500</td>\n",
       "      <td>1.000000</td>\n",
       "      <td>1.000000</td>\n",
       "      <td>1.000000</td>\n",
       "    </tr>\n",
       "    <tr>\n",
       "      <th>50%</th>\n",
       "      <td>2.023443e+07</td>\n",
       "      <td>29.720000</td>\n",
       "      <td>1.000000</td>\n",
       "      <td>2.000000</td>\n",
       "      <td>3.000000</td>\n",
       "    </tr>\n",
       "    <tr>\n",
       "      <th>75%</th>\n",
       "      <td>2.728201e+07</td>\n",
       "      <td>35.157500</td>\n",
       "      <td>2.000000</td>\n",
       "      <td>3.000000</td>\n",
       "      <td>4.000000</td>\n",
       "    </tr>\n",
       "    <tr>\n",
       "      <th>max</th>\n",
       "      <td>3.429629e+07</td>\n",
       "      <td>208.700000</td>\n",
       "      <td>9.000000</td>\n",
       "      <td>12.000000</td>\n",
       "      <td>18.000000</td>\n",
       "    </tr>\n",
       "  </tbody>\n",
       "</table>\n",
       "</div>"
      ],
      "text/plain": [
       "                 id  square_meters    bathrooms     bedrooms         beds\n",
       "count  3.974000e+03    3974.000000  3969.000000  3972.000000  3973.000000\n",
       "mean   1.905941e+07      32.657089     1.637314     2.262840     2.982884\n",
       "std    9.691911e+06      12.485803     0.832215     1.368016     1.993749\n",
       "min    2.982000e+04       0.000000     0.000000     0.000000     0.000000\n",
       "25%    1.147178e+07      24.762500     1.000000     1.000000     1.000000\n",
       "50%    2.023443e+07      29.720000     1.000000     2.000000     3.000000\n",
       "75%    2.728201e+07      35.157500     2.000000     3.000000     4.000000\n",
       "max    3.429629e+07     208.700000     9.000000    12.000000    18.000000"
      ]
     },
     "execution_count": 1394,
     "metadata": {},
     "output_type": "execute_result"
    }
   ],
   "source": [
    "data.describe()"
   ]
  },
  {
   "cell_type": "code",
   "execution_count": 1395,
   "metadata": {},
   "outputs": [
    {
     "name": "stdout",
     "output_type": "stream",
     "text": [
      "<class 'pandas.core.frame.DataFrame'>\n",
      "RangeIndex: 3974 entries, 0 to 3973\n",
      "Data columns (total 11 columns):\n",
      "id                        3974 non-null int64\n",
      "country                   3974 non-null object\n",
      "state                     3781 non-null object\n",
      "neighbourhood_cleansed    3974 non-null object\n",
      "property_type             3974 non-null object\n",
      "square_meters             3974 non-null float64\n",
      "price                     3974 non-null object\n",
      "room_type                 3974 non-null object\n",
      "bathrooms                 3969 non-null float64\n",
      "bedrooms                  3972 non-null float64\n",
      "beds                      3973 non-null float64\n",
      "dtypes: float64(4), int64(1), object(6)\n",
      "memory usage: 341.6+ KB\n"
     ]
    }
   ],
   "source": [
    "data.info()"
   ]
  },
  {
   "cell_type": "markdown",
   "metadata": {},
   "source": [
    "### Observation1 : Our target value is to predict the price of the house, it is in dtype object, later we shall change into float values"
   ]
  },
  {
   "cell_type": "markdown",
   "metadata": {},
   "source": [
    "Check the unique values in each columns"
   ]
  },
  {
   "cell_type": "code",
   "execution_count": 1396,
   "metadata": {},
   "outputs": [
    {
     "data": {
      "text/plain": [
       "id                        3974\n",
       "country                      1\n",
       "state                        8\n",
       "neighbourhood_cleansed       5\n",
       "property_type                8\n",
       "square_meters             2113\n",
       "price                     1290\n",
       "room_type                    3\n",
       "bathrooms                   16\n",
       "bedrooms                    12\n",
       "beds                        17\n",
       "dtype: int64"
      ]
     },
     "execution_count": 1396,
     "metadata": {},
     "output_type": "execute_result"
    }
   ],
   "source": [
    "data.nunique()"
   ]
  },
  {
   "cell_type": "code",
   "execution_count": 1397,
   "metadata": {},
   "outputs": [
    {
     "data": {
      "text/plain": [
       "array(['NSW', 'New South Wales', nan, 'Nsw', 'nsw', 'QLD', 'Queensland',\n",
       "       'queensland', 'Qld'], dtype=object)"
      ]
     },
     "execution_count": 1397,
     "metadata": {},
     "output_type": "execute_result"
    }
   ],
   "source": [
    "data['state'].unique()"
   ]
  },
  {
   "cell_type": "markdown",
   "metadata": {},
   "source": [
    "Let's check the count of each unique text of state"
   ]
  },
  {
   "cell_type": "code",
   "execution_count": 1398,
   "metadata": {},
   "outputs": [
    {
     "data": {
      "text/html": [
       "<div>\n",
       "<style scoped>\n",
       "    .dataframe tbody tr th:only-of-type {\n",
       "        vertical-align: middle;\n",
       "    }\n",
       "\n",
       "    .dataframe tbody tr th {\n",
       "        vertical-align: top;\n",
       "    }\n",
       "\n",
       "    .dataframe thead th {\n",
       "        text-align: right;\n",
       "    }\n",
       "</style>\n",
       "<table border=\"1\" class=\"dataframe\">\n",
       "  <thead>\n",
       "    <tr style=\"text-align: right;\">\n",
       "      <th></th>\n",
       "      <th>state</th>\n",
       "      <th>count</th>\n",
       "    </tr>\n",
       "  </thead>\n",
       "  <tbody>\n",
       "    <tr>\n",
       "      <th>0</th>\n",
       "      <td>NSW</td>\n",
       "      <td>3609</td>\n",
       "    </tr>\n",
       "    <tr>\n",
       "      <th>1</th>\n",
       "      <td>New South Wales</td>\n",
       "      <td>115</td>\n",
       "    </tr>\n",
       "    <tr>\n",
       "      <th>2</th>\n",
       "      <td>Nsw</td>\n",
       "      <td>4</td>\n",
       "    </tr>\n",
       "    <tr>\n",
       "      <th>3</th>\n",
       "      <td>QLD</td>\n",
       "      <td>46</td>\n",
       "    </tr>\n",
       "    <tr>\n",
       "      <th>4</th>\n",
       "      <td>Qld</td>\n",
       "      <td>2</td>\n",
       "    </tr>\n",
       "    <tr>\n",
       "      <th>5</th>\n",
       "      <td>Queensland</td>\n",
       "      <td>1</td>\n",
       "    </tr>\n",
       "    <tr>\n",
       "      <th>6</th>\n",
       "      <td>nsw</td>\n",
       "      <td>3</td>\n",
       "    </tr>\n",
       "    <tr>\n",
       "      <th>7</th>\n",
       "      <td>queensland</td>\n",
       "      <td>1</td>\n",
       "    </tr>\n",
       "  </tbody>\n",
       "</table>\n",
       "</div>"
      ],
      "text/plain": [
       "             state  count\n",
       "0              NSW   3609\n",
       "1  New South Wales    115\n",
       "2              Nsw      4\n",
       "3              QLD     46\n",
       "4              Qld      2\n",
       "5       Queensland      1\n",
       "6              nsw      3\n",
       "7       queensland      1"
      ]
     },
     "execution_count": 1398,
     "metadata": {},
     "output_type": "execute_result"
    }
   ],
   "source": [
    "pd.DataFrame(data.groupby('state').count()['country'].rename('count')).reset_index()"
   ]
  },
  {
   "cell_type": "markdown",
   "metadata": {},
   "source": [
    "### Observation 2: Convert all the data with New south wales, NSW, nsw to one unique value, Similarly do the same for values with QLD"
   ]
  },
  {
   "cell_type": "markdown",
   "metadata": {},
   "source": [
    "### Data Cleaning and Processing\n",
    "\n",
    "Let's create a duplicate copy of our data before we make changes"
   ]
  },
  {
   "cell_type": "code",
   "execution_count": 1399,
   "metadata": {},
   "outputs": [],
   "source": [
    "data_cleaned = data.copy()"
   ]
  },
  {
   "cell_type": "markdown",
   "metadata": {},
   "source": [
    "Convert all the data with New south wales, NSW, nsw to one unique value"
   ]
  },
  {
   "cell_type": "code",
   "execution_count": 1400,
   "metadata": {},
   "outputs": [
    {
     "name": "stderr",
     "output_type": "stream",
     "text": [
      "/anaconda3/lib/python3.7/site-packages/pandas/core/indexing.py:189: SettingWithCopyWarning: \n",
      "A value is trying to be set on a copy of a slice from a DataFrame\n",
      "\n",
      "See the caveats in the documentation: http://pandas.pydata.org/pandas-docs/stable/indexing.html#indexing-view-versus-copy\n",
      "  self._setitem_with_indexer(indexer, value)\n"
     ]
    }
   ],
   "source": [
    "data_cleaned['state'].loc[data_cleaned['state'].isin(['NSW',\n",
    "                                                      'New South Wales', \n",
    "                                                      'Nsw','nsw'])]='NSW'"
   ]
  },
  {
   "cell_type": "code",
   "execution_count": 1401,
   "metadata": {},
   "outputs": [],
   "source": [
    "data_cleaned['state'].loc[data_cleaned['state'].isin(['QLD', \n",
    "                                                      'Queensland',\n",
    "                                                      'queensland','Qld'])]='QLD'"
   ]
  },
  {
   "cell_type": "code",
   "execution_count": 1402,
   "metadata": {},
   "outputs": [
    {
     "data": {
      "text/html": [
       "<div>\n",
       "<style scoped>\n",
       "    .dataframe tbody tr th:only-of-type {\n",
       "        vertical-align: middle;\n",
       "    }\n",
       "\n",
       "    .dataframe tbody tr th {\n",
       "        vertical-align: top;\n",
       "    }\n",
       "\n",
       "    .dataframe thead th {\n",
       "        text-align: right;\n",
       "    }\n",
       "</style>\n",
       "<table border=\"1\" class=\"dataframe\">\n",
       "  <thead>\n",
       "    <tr style=\"text-align: right;\">\n",
       "      <th></th>\n",
       "      <th>state</th>\n",
       "      <th>count</th>\n",
       "    </tr>\n",
       "  </thead>\n",
       "  <tbody>\n",
       "    <tr>\n",
       "      <th>0</th>\n",
       "      <td>NSW</td>\n",
       "      <td>3731</td>\n",
       "    </tr>\n",
       "    <tr>\n",
       "      <th>1</th>\n",
       "      <td>QLD</td>\n",
       "      <td>50</td>\n",
       "    </tr>\n",
       "  </tbody>\n",
       "</table>\n",
       "</div>"
      ],
      "text/plain": [
       "  state  count\n",
       "0   NSW   3731\n",
       "1   QLD     50"
      ]
     },
     "execution_count": 1402,
     "metadata": {},
     "output_type": "execute_result"
    }
   ],
   "source": [
    "pd.DataFrame(data_cleaned.groupby('state').count()['country'].rename('count')).reset_index()"
   ]
  },
  {
   "cell_type": "markdown",
   "metadata": {},
   "source": [
    "Check the number of NA values apart from NSW and QLD"
   ]
  },
  {
   "cell_type": "code",
   "execution_count": 1403,
   "metadata": {},
   "outputs": [
    {
     "data": {
      "text/plain": [
       "193"
      ]
     },
     "execution_count": 1403,
     "metadata": {},
     "output_type": "execute_result"
    }
   ],
   "source": [
    "sum(np.logical_and(data_cleaned['state'] != 'NSW',\n",
    "                               data_cleaned['state'] != 'QLD'))"
   ]
  },
  {
   "cell_type": "markdown",
   "metadata": {},
   "source": [
    "### Observation 3 : There are 193 NA values, need to impute these values to front fill "
   ]
  },
  {
   "cell_type": "markdown",
   "metadata": {},
   "source": [
    "Use the imputation method of front fill to fill all the NA/Null values"
   ]
  },
  {
   "cell_type": "code",
   "execution_count": 1404,
   "metadata": {},
   "outputs": [],
   "source": [
    "data_cleaned.fillna(method = 'ffill', inplace = True)"
   ]
  },
  {
   "cell_type": "markdown",
   "metadata": {},
   "source": [
    "Drop the columns id, country as they are not necessary for our analysis as country is australia and since python has its own index we can remove id"
   ]
  },
  {
   "cell_type": "code",
   "execution_count": 1405,
   "metadata": {},
   "outputs": [],
   "source": [
    "data_cleaned = data_cleaned.drop(columns = ['id','country'])"
   ]
  },
  {
   "cell_type": "markdown",
   "metadata": {},
   "source": [
    "There are few rows with the square_meters as 0 where as the values of house is provided for those data"
   ]
  },
  {
   "cell_type": "code",
   "execution_count": 1406,
   "metadata": {},
   "outputs": [
    {
     "data": {
      "text/html": [
       "<div>\n",
       "<style scoped>\n",
       "    .dataframe tbody tr th:only-of-type {\n",
       "        vertical-align: middle;\n",
       "    }\n",
       "\n",
       "    .dataframe tbody tr th {\n",
       "        vertical-align: top;\n",
       "    }\n",
       "\n",
       "    .dataframe thead th {\n",
       "        text-align: right;\n",
       "    }\n",
       "</style>\n",
       "<table border=\"1\" class=\"dataframe\">\n",
       "  <thead>\n",
       "    <tr style=\"text-align: right;\">\n",
       "      <th></th>\n",
       "      <th>state</th>\n",
       "      <th>neighbourhood_cleansed</th>\n",
       "      <th>property_type</th>\n",
       "      <th>square_meters</th>\n",
       "      <th>price</th>\n",
       "      <th>room_type</th>\n",
       "      <th>bathrooms</th>\n",
       "      <th>bedrooms</th>\n",
       "      <th>beds</th>\n",
       "    </tr>\n",
       "  </thead>\n",
       "  <tbody>\n",
       "    <tr>\n",
       "      <th>0</th>\n",
       "      <td>NSW</td>\n",
       "      <td>BALLINA SHIRE COUNCIL</td>\n",
       "      <td>House</td>\n",
       "      <td>0.0</td>\n",
       "      <td>$2,900.00</td>\n",
       "      <td>Entire home/apt</td>\n",
       "      <td>3.0</td>\n",
       "      <td>4.0</td>\n",
       "      <td>4.0</td>\n",
       "    </tr>\n",
       "    <tr>\n",
       "      <th>3050</th>\n",
       "      <td>NSW</td>\n",
       "      <td>LISMORE CITY COUNCIL</td>\n",
       "      <td>Guesthouse</td>\n",
       "      <td>0.0</td>\n",
       "      <td>$99.00</td>\n",
       "      <td>Entire home/apt</td>\n",
       "      <td>1.0</td>\n",
       "      <td>0.0</td>\n",
       "      <td>1.0</td>\n",
       "    </tr>\n",
       "  </tbody>\n",
       "</table>\n",
       "</div>"
      ],
      "text/plain": [
       "     state neighbourhood_cleansed property_type  square_meters       price  \\\n",
       "0      NSW  BALLINA SHIRE COUNCIL         House            0.0  $2,900.00    \n",
       "3050   NSW   LISMORE CITY COUNCIL    Guesthouse            0.0     $99.00    \n",
       "\n",
       "            room_type  bathrooms  bedrooms  beds  \n",
       "0     Entire home/apt        3.0       4.0   4.0  \n",
       "3050  Entire home/apt        1.0       0.0   1.0  "
      ]
     },
     "execution_count": 1406,
     "metadata": {},
     "output_type": "execute_result"
    }
   ],
   "source": [
    "data_cleaned[(data_cleaned['square_meters'] == 0)]"
   ]
  },
  {
   "cell_type": "markdown",
   "metadata": {},
   "source": [
    "### Observation 4 : There are 2 values of Sq_meteres with 0 but have price associated with it. Need to impute these values to with Median of Sq meteres"
   ]
  },
  {
   "cell_type": "code",
   "execution_count": 1407,
   "metadata": {},
   "outputs": [],
   "source": [
    "sq_median = np.median(data_cleaned['square_meters'])"
   ]
  },
  {
   "cell_type": "code",
   "execution_count": 1408,
   "metadata": {},
   "outputs": [],
   "source": [
    "data_cleaned.loc[data_cleaned['square_meters'] == 0,'square_meters'] = sq_median"
   ]
  },
  {
   "cell_type": "markdown",
   "metadata": {},
   "source": [
    "### Observation 5 : As mentioned above in EDA, price is shown as object datatype, we have to change it to float, but before that we have remove the dollar and comma symbol.\n",
    "\n",
    "To check the values of house price, let's first replace the $ and , values in price to make it numerical"
   ]
  },
  {
   "cell_type": "code",
   "execution_count": 1409,
   "metadata": {},
   "outputs": [],
   "source": [
    "data_cleaned['price'] = data_cleaned['price'].apply(lambda x: str(x).replace('$', ''))\n",
    "data_cleaned['price'] = data_cleaned['price'].apply(lambda x: str(x).replace(',', ''))"
   ]
  },
  {
   "cell_type": "code",
   "execution_count": 1410,
   "metadata": {},
   "outputs": [],
   "source": [
    "data_cleaned['price'] = pd.to_numeric(data_cleaned['price'] , errors='coerce')"
   ]
  },
  {
   "cell_type": "markdown",
   "metadata": {},
   "source": [
    "### Data Visualization\n",
    "\n",
    "Let us plot a distance plot to check the distribution of price of the data"
   ]
  },
  {
   "cell_type": "code",
   "execution_count": 1411,
   "metadata": {},
   "outputs": [
    {
     "name": "stderr",
     "output_type": "stream",
     "text": [
      "/anaconda3/lib/python3.7/site-packages/scipy/stats/stats.py:1713: FutureWarning: Using a non-tuple sequence for multidimensional indexing is deprecated; use `arr[tuple(seq)]` instead of `arr[seq]`. In the future this will be interpreted as an array index, `arr[np.array(seq)]`, which will result either in an error or a different result.\n",
      "  return np.add.reduce(sorted[indexer] * weights, axis=axis) / sumval\n"
     ]
    },
    {
     "data": {
      "image/png": "[encoded data removed]",
      "text/plain": [
       "<Figure size 1656x576 with 1 Axes>"
      ]
     },
     "metadata": {},
     "output_type": "display_data"
    }
   ],
   "source": [
    "sns.set_style('whitegrid')\n",
    "plt.figure(figsize=(23,8))\n",
    "ax = sns.distplot(data_cleaned['price'])\n",
    "plt.xlim(0, None);"
   ]
  },
  {
   "cell_type": "code",
   "execution_count": 1412,
   "metadata": {},
   "outputs": [
    {
     "data": {
      "text/plain": [
       "(array([3.028e+03, 7.280e+02, 1.450e+02, 4.600e+01, 1.200e+01, 1.000e+01,\n",
       "        3.000e+00, 0.000e+00, 1.000e+00, 1.000e+00]),\n",
       " array([1.00000e+00, 1.15090e+03, 2.30080e+03, 3.45070e+03, 4.60060e+03,\n",
       "        5.75050e+03, 6.90040e+03, 8.05030e+03, 9.20020e+03, 1.03501e+04,\n",
       "        1.15000e+04]),\n",
       " <a list of 10 Patch objects>)"
      ]
     },
     "execution_count": 1412,
     "metadata": {},
     "output_type": "execute_result"
    },
    {
     "data": {
      "image/png": "[encoded data removed]",
      "text/plain": [
       "<Figure size 1656x576 with 1 Axes>"
      ]
     },
     "metadata": {},
     "output_type": "display_data"
    }
   ],
   "source": [
    "plt.hist(data_cleaned['price'])"
   ]
  },
  {
   "cell_type": "markdown",
   "metadata": {},
   "source": [
    "### Observation 6 : As we saw in above Figure, our response variable is positively skewed. We need data transformation\n",
    "\n",
    "### Transform by log(1+x)\n",
    "\n",
    "### Data Transformation\n",
    "To maximize the performance of our model, we want to normalize our features and response variable. As we saw in above Figure, our response variable is positively skewed.\n",
    "\n",
    "By applying a log transformation, Sale Price now resembles a normal distribution (Figure 4).We can see the distribution of the price is skewed towards left so we have to use logarithimic value to impute the data to make it more normal"
   ]
  },
  {
   "cell_type": "code",
   "execution_count": 1413,
   "metadata": {},
   "outputs": [
    {
     "data": {
      "text/plain": [
       "(array([1.000e+00, 0.000e+00, 0.000e+00, 8.000e+01, 6.810e+02, 8.260e+02,\n",
       "        1.103e+03, 9.930e+02, 2.660e+02, 2.400e+01]),\n",
       " array([0.69314718, 1.55885139, 2.4245556 , 3.29025981, 4.15596402,\n",
       "        5.02166822, 5.88737243, 6.75307664, 7.61878085, 8.48448506,\n",
       "        9.35018927]),\n",
       " <a list of 10 Patch objects>)"
      ]
     },
     "execution_count": 1413,
     "metadata": {},
     "output_type": "execute_result"
    },
    {
     "data": {
      "image/png": "[encoded data removed]",
      "text/plain": [
       "<Figure size 1656x576 with 1 Axes>"
      ]
     },
     "metadata": {},
     "output_type": "display_data"
    }
   ],
   "source": [
    "data_cleaned['price'] = np.log1p(data_cleaned['price'])\n",
    "plt.hist(data_cleaned['price'])"
   ]
  },
  {
   "cell_type": "markdown",
   "metadata": {},
   "source": [
    "Now the data looks more of normal distribution\n",
    "\n",
    "Check the data types of the data, The heat map shows the correlation among each feature and the response variable “Price”. This gives us information about the feature importance in predicting the Sale Price and indicates where there may be multicolinearity. Overall there are no highly correlated with Price or with each independent variable,  "
   ]
  },
  {
   "cell_type": "code",
   "execution_count": 1414,
   "metadata": {},
   "outputs": [
    {
     "data": {
      "text/plain": [
       "<matplotlib.axes._subplots.AxesSubplot at 0x1a3b115160>"
      ]
     },
     "execution_count": 1414,
     "metadata": {},
     "output_type": "execute_result"
    },
    {
     "data": {
      "image/png": "[encoded data removed]",
      "text/plain": [
       "<Figure size 720x576 with 2 Axes>"
      ]
     },
     "metadata": {},
     "output_type": "display_data"
    }
   ],
   "source": [
    "plt.figure(figsize=(10,8))\n",
    "sns.rx = set\n",
    "df_corr = data_cleaned.corr()\n",
    "sns.heatmap(data=df_corr, annot=True)"
   ]
  },
  {
   "cell_type": "markdown",
   "metadata": {},
   "source": [
    "There is no much correlation observed between the numerical data values\n",
    "\n",
    "\n",
    "### One-Hot Encoding\n",
    "\n",
    "We’ll need to one-hot encode (or dummy code) our categorical variables so they can be interpreted by the model.\n",
    "\n",
    "We use get dummies to change the categorical values to numerical values in the dataset"
   ]
  },
  {
   "cell_type": "code",
   "execution_count": 1415,
   "metadata": {},
   "outputs": [
    {
     "name": "stdout",
     "output_type": "stream",
     "text": [
      "Index(['state_QLD', 'neighbourhood_cleansed_BYRON SHIRE COUNCIL',\n",
      "       'neighbourhood_cleansed_LISMORE CITY COUNCIL',\n",
      "       'neighbourhood_cleansed_RICHMOND VALLEY COUNCIL',\n",
      "       'neighbourhood_cleansed_TWEED SHIRE COUNCIL', 'property_type_Camper/RV',\n",
      "       'property_type_Guest suite', 'property_type_Guesthouse',\n",
      "       'property_type_House', 'property_type_Loft',\n",
      "       'property_type_Nature lodge', 'property_type_Other',\n",
      "       'room_type_Private room', 'room_type_Shared room', 'square_meters',\n",
      "       'price', 'bathrooms', 'bedrooms', 'beds'],\n",
      "      dtype='object')\n"
     ]
    },
    {
     "data": {
      "text/html": [
       "<div>\n",
       "<style scoped>\n",
       "    .dataframe tbody tr th:only-of-type {\n",
       "        vertical-align: middle;\n",
       "    }\n",
       "\n",
       "    .dataframe tbody tr th {\n",
       "        vertical-align: top;\n",
       "    }\n",
       "\n",
       "    .dataframe thead th {\n",
       "        text-align: right;\n",
       "    }\n",
       "</style>\n",
       "<table border=\"1\" class=\"dataframe\">\n",
       "  <thead>\n",
       "    <tr style=\"text-align: right;\">\n",
       "      <th></th>\n",
       "      <th>state_QLD</th>\n",
       "      <th>neighbourhood_cleansed_BYRON SHIRE COUNCIL</th>\n",
       "      <th>neighbourhood_cleansed_LISMORE CITY COUNCIL</th>\n",
       "      <th>neighbourhood_cleansed_RICHMOND VALLEY COUNCIL</th>\n",
       "      <th>neighbourhood_cleansed_TWEED SHIRE COUNCIL</th>\n",
       "      <th>property_type_Camper/RV</th>\n",
       "      <th>property_type_Guest suite</th>\n",
       "      <th>property_type_Guesthouse</th>\n",
       "      <th>property_type_House</th>\n",
       "      <th>property_type_Loft</th>\n",
       "      <th>property_type_Nature lodge</th>\n",
       "      <th>property_type_Other</th>\n",
       "      <th>room_type_Private room</th>\n",
       "      <th>room_type_Shared room</th>\n",
       "      <th>square_meters</th>\n",
       "      <th>price</th>\n",
       "      <th>bathrooms</th>\n",
       "      <th>bedrooms</th>\n",
       "      <th>beds</th>\n",
       "    </tr>\n",
       "  </thead>\n",
       "  <tbody>\n",
       "    <tr>\n",
       "      <th>0</th>\n",
       "      <td>0</td>\n",
       "      <td>0</td>\n",
       "      <td>0</td>\n",
       "      <td>0</td>\n",
       "      <td>0</td>\n",
       "      <td>0</td>\n",
       "      <td>0</td>\n",
       "      <td>0</td>\n",
       "      <td>1</td>\n",
       "      <td>0</td>\n",
       "      <td>0</td>\n",
       "      <td>0</td>\n",
       "      <td>0</td>\n",
       "      <td>0</td>\n",
       "      <td>29.72</td>\n",
       "      <td>7.972811</td>\n",
       "      <td>3.0</td>\n",
       "      <td>4.0</td>\n",
       "      <td>4.0</td>\n",
       "    </tr>\n",
       "  </tbody>\n",
       "</table>\n",
       "</div>"
      ],
      "text/plain": [
       "   state_QLD  neighbourhood_cleansed_BYRON SHIRE COUNCIL  \\\n",
       "0          0                                           0   \n",
       "\n",
       "   neighbourhood_cleansed_LISMORE CITY COUNCIL  \\\n",
       "0                                            0   \n",
       "\n",
       "   neighbourhood_cleansed_RICHMOND VALLEY COUNCIL  \\\n",
       "0                                               0   \n",
       "\n",
       "   neighbourhood_cleansed_TWEED SHIRE COUNCIL  property_type_Camper/RV  \\\n",
       "0                                           0                        0   \n",
       "\n",
       "   property_type_Guest suite  property_type_Guesthouse  property_type_House  \\\n",
       "0                          0                         0                    1   \n",
       "\n",
       "   property_type_Loft  property_type_Nature lodge  property_type_Other  \\\n",
       "0                   0                           0                    0   \n",
       "\n",
       "   room_type_Private room  room_type_Shared room  square_meters     price  \\\n",
       "0                       0                      0          29.72  7.972811   \n",
       "\n",
       "   bathrooms  bedrooms  beds  \n",
       "0        3.0       4.0   4.0  "
      ]
     },
     "execution_count": 1415,
     "metadata": {},
     "output_type": "execute_result"
    }
   ],
   "source": [
    "data_cat = pd.get_dummies(data_cleaned.select_dtypes('object'),drop_first = True)\n",
    "data_cat.head(5)\n",
    "data_num = data_cleaned.select_dtypes('float64')\n",
    "df = pd.concat([data_cat,data_num],axis = 1)\n",
    "print(df.columns)\n",
    "df.head(1)"
   ]
  },
  {
   "cell_type": "code",
   "execution_count": 1420,
   "metadata": {},
   "outputs": [
    {
     "data": {
      "text/plain": [
       "Index(['state_QLD', 'neighbourhood_cleansed_BYRON SHIRE COUNCIL',\n",
       "       'neighbourhood_cleansed_LISMORE CITY COUNCIL',\n",
       "       'neighbourhood_cleansed_RICHMOND VALLEY COUNCIL',\n",
       "       'neighbourhood_cleansed_TWEED SHIRE COUNCIL', 'property_type_Camper/RV',\n",
       "       'property_type_Guest suite', 'property_type_Guesthouse',\n",
       "       'property_type_House', 'property_type_Loft',\n",
       "       'property_type_Nature lodge', 'property_type_Other',\n",
       "       'room_type_Private room', 'room_type_Shared room', 'square_meters',\n",
       "       'price', 'bathrooms', 'bedrooms', 'beds'],\n",
       "      dtype='object')"
      ]
     },
     "execution_count": 1420,
     "metadata": {},
     "output_type": "execute_result"
    }
   ],
   "source": [
    "df.columns"
   ]
  },
  {
   "cell_type": "code",
   "execution_count": 1421,
   "metadata": {},
   "outputs": [],
   "source": [
    "df.columns = [\"state_QLD\",'N_BSE','N_LCC','N_RVC','N_TSC','P_RV','P_G_Suite','P_G_house','P_House','P_Loft','P_Lodge',\n",
    "               'P_other','R_Private','R_Shared','Sq_meters','price','Bathrooms','Bedrooms','Beds']"
   ]
  },
  {
   "cell_type": "markdown",
   "metadata": {},
   "source": [
    "## Predictive Model (Classification) - Linear Regression\n",
    "\n",
    "Goal is to predict price of the house based on the variables. Linear Regression helps to build the model using the training set, and then check the prediction using the testing set.\n",
    "\n",
    "\n",
    "### Load Features and Targets\n",
    "Now we will create the input features X and output feature Y from the dataset"
   ]
  },
  {
   "cell_type": "code",
   "execution_count": 1463,
   "metadata": {},
   "outputs": [],
   "source": [
    "X = df.drop('price', axis =1).values\n",
    "y = df['price'].values\n",
    "y = y.reshape(data_length2,1)"
   ]
  },
  {
   "cell_type": "markdown",
   "metadata": {},
   "source": [
    "### PolynomialFeatures \n",
    "\n",
    "Generate a new feature matrix consisting of all polynomial combinations of the features with degree less than or equal to the specified degree. For example, if an input sample is two dimensional and of the form [a, b], the degree-2 polynomial features are [1, a, b, a^2, ab, b^2]."
   ]
  },
  {
   "cell_type": "code",
   "execution_count": 1466,
   "metadata": {},
   "outputs": [
    {
     "data": {
      "text/plain": [
       "(3974, 189)"
      ]
     },
     "execution_count": 1466,
     "metadata": {},
     "output_type": "execute_result"
    }
   ],
   "source": [
    "from sklearn.preprocessing import PolynomialFeatures\n",
    "poly_features = PolynomialFeatures(degree=2, include_bias=False)\n",
    "X_poly = poly_features.fit_transform(X)\n",
    "X_poly.shape"
   ]
  },
  {
   "cell_type": "markdown",
   "metadata": {},
   "source": [
    "### Import train_test_split and split train test data to 80-20 split X_poly and y"
   ]
  },
  {
   "cell_type": "code",
   "execution_count": 1467,
   "metadata": {},
   "outputs": [],
   "source": [
    "from sklearn.model_selection import train_test_split \n",
    "X_train, X_test, y_train, y_test = train_test_split(X_poly, y, test_size=0.20, random_state =242)"
   ]
  },
  {
   "cell_type": "markdown",
   "metadata": {},
   "source": [
    "\n",
    "### Fit the Model"
   ]
  },
  {
   "cell_type": "code",
   "execution_count": 1468,
   "metadata": {},
   "outputs": [
    {
     "data": {
      "text/plain": [
       "LinearRegression(copy_X=True, fit_intercept=True, n_jobs=None,\n",
       "         normalize=False)"
      ]
     },
     "execution_count": 1468,
     "metadata": {},
     "output_type": "execute_result"
    }
   ],
   "source": [
    "from sklearn.model_selection import train_test_split\n",
    "from sklearn.linear_model import LinearRegression\n",
    "from sklearn.metrics import mean_squared_error, r2_score\n",
    "\n",
    "#Create the linear regression object and train/fit models\n",
    "linear_regression = LinearRegression()\n",
    "linear_regression.fit(X_train, y_train)"
   ]
  },
  {
   "cell_type": "markdown",
   "metadata": {},
   "source": [
    "### Make predictions using the testing set"
   ]
  },
  {
   "cell_type": "code",
   "execution_count": 1469,
   "metadata": {},
   "outputs": [],
   "source": [
    "y_pred = linear_regression.predict(X_test)"
   ]
  },
  {
   "cell_type": "code",
   "execution_count": 1470,
   "metadata": {},
   "outputs": [
    {
     "data": {
      "text/plain": [
       "<matplotlib.collections.PathCollection at 0x1a42975c50>"
      ]
     },
     "execution_count": 1470,
     "metadata": {},
     "output_type": "execute_result"
    },
    {
     "data": {
      "image/png": "[encoded data removed]",
      "text/plain": [
       "<Figure size 1656x576 with 1 Axes>"
      ]
     },
     "metadata": {},
     "output_type": "display_data"
    }
   ],
   "source": [
    "Residual = y_pred - y_test\n",
    "plt.scatter(y_test, Residual)"
   ]
  },
  {
   "cell_type": "markdown",
   "metadata": {},
   "source": [
    "### Calculate mean_squared_error and r2_score"
   ]
  },
  {
   "cell_type": "code",
   "execution_count": 1462,
   "metadata": {},
   "outputs": [
    {
     "name": "stdout",
     "output_type": "stream",
     "text": [
      "Mean Squared Error (MSE):0.13\n",
      "Variance Score (R^2):0.88\n"
     ]
    }
   ],
   "source": [
    "#Performance Metric: Mean Squared Error\n",
    "print(\"Mean Squared Error (MSE):%.2f\" % mean_squared_error(y_test, y_pred))\n",
    "\n",
    "# Explained variance score:\n",
    "print('Variance Score (R^2):%.2f' % r2_score(y_test, y_pred))"
   ]
  },
  {
   "cell_type": "markdown",
   "metadata": {},
   "source": [
    "Mean Squared Error (MSE) to identify the performance of the train and test, ultimately, to indicate any overfitting/underfitting in the models, here MSE is 0.13 which is mse for test data\n",
    "\n",
    "R2 is 88% for test data, which is good as we have considered all the variables."
   ]
  },
  {
   "attachments": {},
   "cell_type": "markdown",
   "metadata": {},
   "source": [
    "### Reglularization  \n",
    "\n",
    "Regularizations are techniques used to reduce the error by fitting a function appropriately on the given training set and avoid overfitting. In Linear regression minimizes a loss function, it chooses a coefficient for each feature variable, large coefficients can lead to overfitting, penalizing large coefficients can be done using Regularization.\n",
    "\n",
    "### Steps :\n",
    "- Practical way to handle regularization using Ridge :\n",
    "- Performs L2 regularization, i.e. adds penalty equivalent to square of the magnitude of coefficients. Minimization objective using sum of square of coefficients.\n",
    "- Alpha: Parameter we need to choose\n",
    "- Picking alpha or lambda here is similar to picking k in k-NN, using cross validation or grid search \n",
    "- Perform hyperparameter tuning, here alpha controls model complexity if alpha = 0: can lead to overfitting else if very high alpha: can lead to underfitting, we have to choose alpha accordingly.\n"
   ]
  },
  {
   "cell_type": "code",
   "execution_count": 1300,
   "metadata": {},
   "outputs": [],
   "source": [
    "def display_plot(cv_scores, cv_scores_std):\n",
    "    fig = plt.figure()\n",
    "    ax = fig.add_subplot(1,1,1)\n",
    "    ax.plot(alpha_space, cv_scores)\n",
    "\n",
    "    std_error = cv_scores_std / np.sqrt(10)\n",
    "\n",
    "    ax.fill_between(alpha_space, cv_scores + std_error, cv_scores - std_error, alpha=0.2)\n",
    "    ax.set_ylabel('CV Score +/- Std Error')\n",
    "    ax.set_xlabel('Alpha')\n",
    "    ax.axhline(np.max(cv_scores), linestyle='--', color='.5')\n",
    "    ax.set_xlim([alpha_space[0], alpha_space[-1]])\n",
    "    ax.set_xscale('log')\n",
    "    plt.show()"
   ]
  },
  {
   "cell_type": "code",
   "execution_count": 1471,
   "metadata": {},
   "outputs": [
    {
     "data": {
      "image/png": "[encoded data removed]",
      "text/plain": [
       "<Figure size 1656x576 with 1 Axes>"
      ]
     },
     "metadata": {},
     "output_type": "display_data"
    }
   ],
   "source": [
    "from sklearn.linear_model import Ridge\n",
    "from sklearn.model_selection import cross_val_score\n",
    "\n",
    "# Setup the array of alphas and lists to store scores\n",
    "alpha_space = np.logspace(-4, 0, 50)\n",
    "ridge_scores = []\n",
    "ridge_scores_std = []\n",
    "\n",
    "# Create a ridge regressor: ridge\n",
    "ridge = Ridge(normalize=True)\n",
    "\n",
    "# Compute scores over range of alphas\n",
    "for alpha in alpha_space:\n",
    "\n",
    "    # Specify the alpha value to use: ridge.alpha\n",
    "    ridge.alpha = alpha\n",
    "    \n",
    "    # Perform 10-fold CV: ridge_cv_scores\n",
    "    ridge_cv_scores = cross_val_score(ridge, X_poly, y, cv=10)\n",
    "    \n",
    "    # Append the mean of ridge_cv_scores to ridge_scores\n",
    "    ridge_scores.append(np.mean(ridge_cv_scores))\n",
    "    \n",
    "    # Append the std of ridge_cv_scores to ridge_scores_std\n",
    "    ridge_scores_std.append(np.std(ridge_cv_scores))\n",
    "\n",
    "# Display the plot\n",
    "display_plot(ridge_scores, ridge_scores_std)"
   ]
  },
  {
   "cell_type": "markdown",
   "metadata": {},
   "source": [
    "### Cross Validation score and Standard error is less as alpha is going down at 10^-2 and down. Hence we choose an alpha of 0.1 to apply for Ridge "
   ]
  },
  {
   "cell_type": "code",
   "execution_count": 1472,
   "metadata": {},
   "outputs": [
    {
     "data": {
      "text/plain": [
       "0.765996764479742"
      ]
     },
     "execution_count": 1472,
     "metadata": {},
     "output_type": "execute_result"
    }
   ],
   "source": [
    "from sklearn.linear_model import Ridge\n",
    "\n",
    "ridge = Ridge(alpha=0.1, normalize=True)\n",
    "ridge.fit(X_train, y_train)\n",
    "ridge_pred = ridge.predict(X_test)\n",
    "ridge.score(X_test, y_test)"
   ]
  },
  {
   "attachments": {},
   "cell_type": "markdown",
   "metadata": {},
   "source": [
    "### Conclusion\n",
    "\n",
    "Using Polynomial we are getting R2 as 88% and as per ridge we can predict that the score with ridge in 76%\n",
    "\n",
    "- We can make reasonable predictions about the price a house will sell for based on all the characteristics of the property.\n",
    "- Key steps include assigning appropriate values for NAs, \n",
    "- Normalizing variables,\n",
    "- Optimizing hyperparameters for candidate models\n",
    "- Choosing the best alpha.\n",
    "\n",
    "Assessing Models: We utilised the  Mean Squared Error (MSE) to identify the performance of the train and test, ultimately, to indicate any overfitting/underfitting in the models. Cross Validation assisted us with running permutations of the different parameters to produce the most effective model with the least MSE\n",
    "\n",
    "### Below were some learnings and observations\n",
    "\n",
    "Observation1 : Our target value is to predict the price of the house, it is in dtype object, later we shall change into float values\n",
    "\n",
    "Observation 2: Convert all the data with New south wales, NSW, nsw to one unique value, Similarly do the same for values with QLD\n",
    "\n",
    "Observation 3 : There are 193 NA values, need to impute these values to front fill\n",
    "\n",
    "Observation 4 : There are 2 values of Sq_meteres with 0 but have price associated with it. Need to impute these values to with Median of Sq meteres\n",
    "\n",
    "Observation 5 : As mentioned above in EDA, price is shown as object datatype, we have to change it to float, but before that we have remove the dollar and comma symbol.\n",
    "\n",
    "Observation 6 : As we saw in above Figure, our response variable is positively skewed. We need data transformation\n"
   ]
  },
  {
   "cell_type": "code",
   "execution_count": null,
   "metadata": {},
   "outputs": [],
   "source": []
  }
 ],
 "metadata": {
  "kernelspec": {
   "display_name": "Python 3",
   "language": "python",
   "name": "python3"
  },
  "language_info": {
   "codemirror_mode": {
    "name": "ipython",
    "version": 3
   },
   "file_extension": ".py",
   "mimetype": "text/x-python",
   "name": "python",
   "nbconvert_exporter": "python",
   "pygments_lexer": "ipython3",
   "version": "3.7.1"
  }
 },
 "nbformat": 4,
 "nbformat_minor": 2
}
