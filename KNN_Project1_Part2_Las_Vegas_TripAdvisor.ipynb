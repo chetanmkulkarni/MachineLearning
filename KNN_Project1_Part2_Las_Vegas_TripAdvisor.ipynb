{
 "cells": [
  {
   "cell_type": "markdown",
   "metadata": {},
   "source": [
    "# Week1 - Predictive Analytics project\n",
    "## K Nearest Neighbour on Las Vegas Trip advisor dataset\n",
    "### Chetan Kulkarni"
   ]
  },
  {
   "cell_type": "markdown",
   "metadata": {},
   "source": [
    "\n",
    "\n",
    "Goal of this project is to predict the Hotel score based on the number of reviews, useful reviews, hotel stars. \n",
    "\n",
    "Data extraction : Data is Las Vegas Trip Advisor Dataset extracted from Kaggle/UCI data.\n",
    "\n",
    "Describe the dataset : This dataset includes quantitative and categorical features from online reviews from 21 hotels located in Las Vegas Strip, extracted from TripAdvisor\n",
    " \n",
    "### Description of each data attribute from dataset \n",
    "User Country : Home country of the user who posted the review on TripAdvisor\n",
    "\n",
    "No of Reviews: Total number of all reviews posted by the user on TripAdvisor\n",
    "\n",
    "No of ReviewNum : Total number of all reviews the hotel being reviewed has received on TripAdvisor\n",
    "\n",
    "HelpfulVotes : Total number of votes by other users considering the user’s review helpful\n",
    "\n",
    "Score : User’s rating of the hotel by the user on the scale of 1 to 5, with 5 being the best rating possible.\n",
    "\n",
    "Stay Period: Period of time in which the user stayed at the hotel being reviewed\n",
    "\n",
    "Traveler type: Type of user who posted the review (business, couples, families, friends, solo)\n",
    "\n",
    "Pool: Does the hotel has a pool? (YES/NO)\n",
    "\n",
    "Gym: Does the hotel has a gym? (YES/NO)\n",
    "\n",
    "Tennis: Does the hotel has a tennis court? (YES/NO)\n",
    "\n",
    "Spa: Does the hotel has a spa? (YES/NO)\n",
    "\n",
    "Casino: Does the hotel has a casino? (YES/NO)\n",
    "\n",
    "Internet: Does the hotel provide free Internet? (YES/NO)\n",
    "\n",
    "Hotel Name: Name of the hotel being reviewed\n",
    "\n",
    "Stars: Hotel external rating (1 through 5 stars, with 5 being the best possible)\n",
    "\n",
    "Capacity: Total number of rooms in the hotel being reviewed\n",
    "\n",
    "Continent: Home continent of the user who posted the review on TripAdvisor\n",
    "\n",
    "Length: Length of time the user who posted the review has been a member of TripAdvisor community\n",
    "\n",
    "Review Month: The month (January through December) in which the user posted the review on TripAdvisor\n",
    "\n",
    "Review Day: The day of the week (Sunday through Saturday) on which the user posted the review on TripAdvisor\n",
    "\n",
    "Description of each data attribute created as part of data wrangling process\n",
    "\n",
    "Average Rating: Average guest ratings\n",
    "\n",
    "Facility Score: Total number of amenities offered by the hotel being reviewed (sum of “Pool”, “Gym”, “Tennis”, “Spa”, “Casino”, “FreeInternet”)\n",
    "\n",
    "ReviewsReceived : Total number of reviews recevied by the hotel being reviewed (sum of “HReviewNum”)\n",
    "\n"
   ]
  },
  {
   "cell_type": "markdown",
   "metadata": {},
   "source": [
    "\n",
    "Import all the libraries\n"
   ]
  },
  {
   "cell_type": "code",
   "execution_count": 4,
   "metadata": {},
   "outputs": [],
   "source": [
    "from IPython.display import display \n",
    "%matplotlib inline\n",
    "import pandas as pd\n",
    "import numpy as np\n",
    "import seaborn as sns\n",
    "import matplotlib.pyplot as plt\n",
    "from sklearn.preprocessing import StandardScaler\n",
    "from sklearn.preprocessing import scale\n",
    "from sklearn import neighbors, linear_model\n",
    "from sklearn.metrics import confusion_matrix\n",
    "from sklearn.neighbors import KNeighborsRegressor\n",
    "from sklearn.model_selection  import train_test_split, cross_val_score\n",
    "from sklearn.metrics import accuracy_score, mean_squared_error"
   ]
  },
  {
   "cell_type": "markdown",
   "metadata": {},
   "source": [
    "### Data extraction\n",
    "\n",
    "Read the values in excel in vegas dataframe and print the type of vegas\n",
    "<br>"
   ]
  },
  {
   "cell_type": "code",
   "execution_count": 6,
   "metadata": {
    "scrolled": true
   },
   "outputs": [
    {
     "ename": "FileNotFoundError",
     "evalue": "File b'lasvegas_tripadvisor.csv' does not exist",
     "output_type": "error",
     "traceback": [
      "\u001b[0;31m---------------------------------------------------------------------------\u001b[0m",
      "\u001b[0;31mFileNotFoundError\u001b[0m                         Traceback (most recent call last)",
      "\u001b[0;32m<ipython-input-6-da5e2daaddaa>\u001b[0m in \u001b[0;36m<module>\u001b[0;34m\u001b[0m\n\u001b[1;32m      1\u001b[0m \u001b[0;31m#Read the values from Excel\u001b[0m\u001b[0;34m\u001b[0m\u001b[0;34m\u001b[0m\u001b[0;34m\u001b[0m\u001b[0m\n\u001b[0;32m----> 2\u001b[0;31m \u001b[0mvegas\u001b[0m \u001b[0;34m=\u001b[0m \u001b[0mpd\u001b[0m\u001b[0;34m.\u001b[0m\u001b[0mread_csv\u001b[0m\u001b[0;34m(\u001b[0m\u001b[0;34m\"lasvegas_tripadvisor.csv\"\u001b[0m\u001b[0;34m)\u001b[0m\u001b[0;34m\u001b[0m\u001b[0;34m\u001b[0m\u001b[0m\n\u001b[0m\u001b[1;32m      3\u001b[0m \u001b[0mvegas\u001b[0m\u001b[0;34m.\u001b[0m\u001b[0mhead\u001b[0m\u001b[0;34m(\u001b[0m\u001b[0;36m5\u001b[0m\u001b[0;34m)\u001b[0m\u001b[0;34m\u001b[0m\u001b[0;34m\u001b[0m\u001b[0m\n",
      "\u001b[0;32m/anaconda3/lib/python3.7/site-packages/pandas/io/parsers.py\u001b[0m in \u001b[0;36mparser_f\u001b[0;34m(filepath_or_buffer, sep, delimiter, header, names, index_col, usecols, squeeze, prefix, mangle_dupe_cols, dtype, engine, converters, true_values, false_values, skipinitialspace, skiprows, nrows, na_values, keep_default_na, na_filter, verbose, skip_blank_lines, parse_dates, infer_datetime_format, keep_date_col, date_parser, dayfirst, iterator, chunksize, compression, thousands, decimal, lineterminator, quotechar, quoting, escapechar, comment, encoding, dialect, tupleize_cols, error_bad_lines, warn_bad_lines, skipfooter, doublequote, delim_whitespace, low_memory, memory_map, float_precision)\u001b[0m\n\u001b[1;32m    676\u001b[0m                     skip_blank_lines=skip_blank_lines)\n\u001b[1;32m    677\u001b[0m \u001b[0;34m\u001b[0m\u001b[0m\n\u001b[0;32m--> 678\u001b[0;31m         \u001b[0;32mreturn\u001b[0m \u001b[0m_read\u001b[0m\u001b[0;34m(\u001b[0m\u001b[0mfilepath_or_buffer\u001b[0m\u001b[0;34m,\u001b[0m \u001b[0mkwds\u001b[0m\u001b[0;34m)\u001b[0m\u001b[0;34m\u001b[0m\u001b[0;34m\u001b[0m\u001b[0m\n\u001b[0m\u001b[1;32m    679\u001b[0m \u001b[0;34m\u001b[0m\u001b[0m\n\u001b[1;32m    680\u001b[0m     \u001b[0mparser_f\u001b[0m\u001b[0;34m.\u001b[0m\u001b[0m__name__\u001b[0m \u001b[0;34m=\u001b[0m \u001b[0mname\u001b[0m\u001b[0;34m\u001b[0m\u001b[0;34m\u001b[0m\u001b[0m\n",
      "\u001b[0;32m/anaconda3/lib/python3.7/site-packages/pandas/io/parsers.py\u001b[0m in \u001b[0;36m_read\u001b[0;34m(filepath_or_buffer, kwds)\u001b[0m\n\u001b[1;32m    438\u001b[0m \u001b[0;34m\u001b[0m\u001b[0m\n\u001b[1;32m    439\u001b[0m     \u001b[0;31m# Create the parser.\u001b[0m\u001b[0;34m\u001b[0m\u001b[0;34m\u001b[0m\u001b[0;34m\u001b[0m\u001b[0m\n\u001b[0;32m--> 440\u001b[0;31m     \u001b[0mparser\u001b[0m \u001b[0;34m=\u001b[0m \u001b[0mTextFileReader\u001b[0m\u001b[0;34m(\u001b[0m\u001b[0mfilepath_or_buffer\u001b[0m\u001b[0;34m,\u001b[0m \u001b[0;34m**\u001b[0m\u001b[0mkwds\u001b[0m\u001b[0;34m)\u001b[0m\u001b[0;34m\u001b[0m\u001b[0;34m\u001b[0m\u001b[0m\n\u001b[0m\u001b[1;32m    441\u001b[0m \u001b[0;34m\u001b[0m\u001b[0m\n\u001b[1;32m    442\u001b[0m     \u001b[0;32mif\u001b[0m \u001b[0mchunksize\u001b[0m \u001b[0;32mor\u001b[0m \u001b[0miterator\u001b[0m\u001b[0;34m:\u001b[0m\u001b[0;34m\u001b[0m\u001b[0;34m\u001b[0m\u001b[0m\n",
      "\u001b[0;32m/anaconda3/lib/python3.7/site-packages/pandas/io/parsers.py\u001b[0m in \u001b[0;36m__init__\u001b[0;34m(self, f, engine, **kwds)\u001b[0m\n\u001b[1;32m    785\u001b[0m             \u001b[0mself\u001b[0m\u001b[0;34m.\u001b[0m\u001b[0moptions\u001b[0m\u001b[0;34m[\u001b[0m\u001b[0;34m'has_index_names'\u001b[0m\u001b[0;34m]\u001b[0m \u001b[0;34m=\u001b[0m \u001b[0mkwds\u001b[0m\u001b[0;34m[\u001b[0m\u001b[0;34m'has_index_names'\u001b[0m\u001b[0;34m]\u001b[0m\u001b[0;34m\u001b[0m\u001b[0;34m\u001b[0m\u001b[0m\n\u001b[1;32m    786\u001b[0m \u001b[0;34m\u001b[0m\u001b[0m\n\u001b[0;32m--> 787\u001b[0;31m         \u001b[0mself\u001b[0m\u001b[0;34m.\u001b[0m\u001b[0m_make_engine\u001b[0m\u001b[0;34m(\u001b[0m\u001b[0mself\u001b[0m\u001b[0;34m.\u001b[0m\u001b[0mengine\u001b[0m\u001b[0;34m)\u001b[0m\u001b[0;34m\u001b[0m\u001b[0;34m\u001b[0m\u001b[0m\n\u001b[0m\u001b[1;32m    788\u001b[0m \u001b[0;34m\u001b[0m\u001b[0m\n\u001b[1;32m    789\u001b[0m     \u001b[0;32mdef\u001b[0m \u001b[0mclose\u001b[0m\u001b[0;34m(\u001b[0m\u001b[0mself\u001b[0m\u001b[0;34m)\u001b[0m\u001b[0;34m:\u001b[0m\u001b[0;34m\u001b[0m\u001b[0;34m\u001b[0m\u001b[0m\n",
      "\u001b[0;32m/anaconda3/lib/python3.7/site-packages/pandas/io/parsers.py\u001b[0m in \u001b[0;36m_make_engine\u001b[0;34m(self, engine)\u001b[0m\n\u001b[1;32m   1012\u001b[0m     \u001b[0;32mdef\u001b[0m \u001b[0m_make_engine\u001b[0m\u001b[0;34m(\u001b[0m\u001b[0mself\u001b[0m\u001b[0;34m,\u001b[0m \u001b[0mengine\u001b[0m\u001b[0;34m=\u001b[0m\u001b[0;34m'c'\u001b[0m\u001b[0;34m)\u001b[0m\u001b[0;34m:\u001b[0m\u001b[0;34m\u001b[0m\u001b[0;34m\u001b[0m\u001b[0m\n\u001b[1;32m   1013\u001b[0m         \u001b[0;32mif\u001b[0m \u001b[0mengine\u001b[0m \u001b[0;34m==\u001b[0m \u001b[0;34m'c'\u001b[0m\u001b[0;34m:\u001b[0m\u001b[0;34m\u001b[0m\u001b[0;34m\u001b[0m\u001b[0m\n\u001b[0;32m-> 1014\u001b[0;31m             \u001b[0mself\u001b[0m\u001b[0;34m.\u001b[0m\u001b[0m_engine\u001b[0m \u001b[0;34m=\u001b[0m \u001b[0mCParserWrapper\u001b[0m\u001b[0;34m(\u001b[0m\u001b[0mself\u001b[0m\u001b[0;34m.\u001b[0m\u001b[0mf\u001b[0m\u001b[0;34m,\u001b[0m \u001b[0;34m**\u001b[0m\u001b[0mself\u001b[0m\u001b[0;34m.\u001b[0m\u001b[0moptions\u001b[0m\u001b[0;34m)\u001b[0m\u001b[0;34m\u001b[0m\u001b[0;34m\u001b[0m\u001b[0m\n\u001b[0m\u001b[1;32m   1015\u001b[0m         \u001b[0;32melse\u001b[0m\u001b[0;34m:\u001b[0m\u001b[0;34m\u001b[0m\u001b[0;34m\u001b[0m\u001b[0m\n\u001b[1;32m   1016\u001b[0m             \u001b[0;32mif\u001b[0m \u001b[0mengine\u001b[0m \u001b[0;34m==\u001b[0m \u001b[0;34m'python'\u001b[0m\u001b[0;34m:\u001b[0m\u001b[0;34m\u001b[0m\u001b[0;34m\u001b[0m\u001b[0m\n",
      "\u001b[0;32m/anaconda3/lib/python3.7/site-packages/pandas/io/parsers.py\u001b[0m in \u001b[0;36m__init__\u001b[0;34m(self, src, **kwds)\u001b[0m\n\u001b[1;32m   1706\u001b[0m         \u001b[0mkwds\u001b[0m\u001b[0;34m[\u001b[0m\u001b[0;34m'usecols'\u001b[0m\u001b[0;34m]\u001b[0m \u001b[0;34m=\u001b[0m \u001b[0mself\u001b[0m\u001b[0;34m.\u001b[0m\u001b[0musecols\u001b[0m\u001b[0;34m\u001b[0m\u001b[0;34m\u001b[0m\u001b[0m\n\u001b[1;32m   1707\u001b[0m \u001b[0;34m\u001b[0m\u001b[0m\n\u001b[0;32m-> 1708\u001b[0;31m         \u001b[0mself\u001b[0m\u001b[0;34m.\u001b[0m\u001b[0m_reader\u001b[0m \u001b[0;34m=\u001b[0m \u001b[0mparsers\u001b[0m\u001b[0;34m.\u001b[0m\u001b[0mTextReader\u001b[0m\u001b[0;34m(\u001b[0m\u001b[0msrc\u001b[0m\u001b[0;34m,\u001b[0m \u001b[0;34m**\u001b[0m\u001b[0mkwds\u001b[0m\u001b[0;34m)\u001b[0m\u001b[0;34m\u001b[0m\u001b[0;34m\u001b[0m\u001b[0m\n\u001b[0m\u001b[1;32m   1709\u001b[0m \u001b[0;34m\u001b[0m\u001b[0m\n\u001b[1;32m   1710\u001b[0m         \u001b[0mpassed_names\u001b[0m \u001b[0;34m=\u001b[0m \u001b[0mself\u001b[0m\u001b[0;34m.\u001b[0m\u001b[0mnames\u001b[0m \u001b[0;32mis\u001b[0m \u001b[0;32mNone\u001b[0m\u001b[0;34m\u001b[0m\u001b[0;34m\u001b[0m\u001b[0m\n",
      "\u001b[0;32mpandas/_libs/parsers.pyx\u001b[0m in \u001b[0;36mpandas._libs.parsers.TextReader.__cinit__\u001b[0;34m()\u001b[0m\n",
      "\u001b[0;32mpandas/_libs/parsers.pyx\u001b[0m in \u001b[0;36mpandas._libs.parsers.TextReader._setup_parser_source\u001b[0;34m()\u001b[0m\n",
      "\u001b[0;31mFileNotFoundError\u001b[0m: File b'lasvegas_tripadvisor.csv' does not exist"
     ]
    }
   ],
   "source": [
    "#Read the values from Excel\n",
    "vegas = pd.read_csv(\"lasvegas_tripadvisor.csv\")\n",
    "vegas.head(5)"
   ]
  },
  {
   "cell_type": "markdown",
   "metadata": {},
   "source": [
    "### Data cleanup\n",
    "Renaming the column names for convinience"
   ]
  },
  {
   "cell_type": "code",
   "execution_count": 546,
   "metadata": {},
   "outputs": [
    {
     "data": {
      "text/plain": [
       "Index(['User_country', 'Nr_reviews', 'Nr_hotel_reviews', 'Helpful_votes',\n",
       "       'Score', 'Period_of_stay', 'Traveler_type', 'Pool', 'Gym',\n",
       "       'Tennis_court', 'Spa', 'Casino', 'Free_internet', 'Hotel_name',\n",
       "       'Hotel_stars', 'Nr_rooms', 'User_continent', 'Member_years',\n",
       "       'Review_month', 'Review_weekday'],\n",
       "      dtype='object')"
      ]
     },
     "execution_count": 546,
     "metadata": {},
     "output_type": "execute_result"
    }
   ],
   "source": [
    "vegas.columns = ['User_country', 'Nr_reviews', 'Nr_hotel_reviews', 'Helpful_votes',\n",
    "       'Score', 'Period_of_stay', 'Traveler_type', 'Pool', 'Gym',\n",
    "       'Tennis_court', 'Spa', 'Casino', 'Free_internet', 'Hotel_name',\n",
    "       'Hotel_stars', 'Nr_rooms', 'User_continent', 'Member_years',\n",
    "       'Review_month', 'Review_weekday']\n",
    "vegas.columns"
   ]
  },
  {
   "cell_type": "markdown",
   "metadata": {},
   "source": [
    "\n",
    "\n",
    "Check for NA values in the given dataset cleaning up columns\n",
    "Using isna().sum() we can see that there are no NA values in the columns\n"
   ]
  },
  {
   "cell_type": "code",
   "execution_count": 547,
   "metadata": {},
   "outputs": [
    {
     "data": {
      "text/plain": [
       "User_country        0\n",
       "Nr_reviews          0\n",
       "Nr_hotel_reviews    0\n",
       "Helpful_votes       0\n",
       "Score               0\n",
       "Period_of_stay      0\n",
       "Traveler_type       0\n",
       "Pool                0\n",
       "Gym                 0\n",
       "Tennis_court        0\n",
       "Spa                 0\n",
       "Casino              0\n",
       "Free_internet       0\n",
       "Hotel_name          0\n",
       "Hotel_stars         0\n",
       "Nr_rooms            0\n",
       "User_continent      0\n",
       "Member_years        0\n",
       "Review_month        0\n",
       "Review_weekday      0\n",
       "dtype: int64"
      ]
     },
     "execution_count": 547,
     "metadata": {},
     "output_type": "execute_result"
    }
   ],
   "source": [
    "vegas.isna().sum()"
   ]
  },
  {
   "cell_type": "markdown",
   "metadata": {},
   "source": [
    "Describe the Dataset using describe function\n",
    "\n",
    "The describe function below gives output for the minimum value of member years as -1806.000000, it is outlier and needs to be cleaned up"
   ]
  },
  {
   "cell_type": "code",
   "execution_count": 548,
   "metadata": {},
   "outputs": [
    {
     "data": {
      "text/html": [
       "<div>\n",
       "<style scoped>\n",
       "    .dataframe tbody tr th:only-of-type {\n",
       "        vertical-align: middle;\n",
       "    }\n",
       "\n",
       "    .dataframe tbody tr th {\n",
       "        vertical-align: top;\n",
       "    }\n",
       "\n",
       "    .dataframe thead th {\n",
       "        text-align: right;\n",
       "    }\n",
       "</style>\n",
       "<table border=\"1\" class=\"dataframe\">\n",
       "  <thead>\n",
       "    <tr style=\"text-align: right;\">\n",
       "      <th></th>\n",
       "      <th>Nr_reviews</th>\n",
       "      <th>Nr_hotel_reviews</th>\n",
       "      <th>Helpful_votes</th>\n",
       "      <th>Score</th>\n",
       "      <th>Hotel_stars</th>\n",
       "      <th>Nr_rooms</th>\n",
       "      <th>Member_years</th>\n",
       "    </tr>\n",
       "  </thead>\n",
       "  <tbody>\n",
       "    <tr>\n",
       "      <th>count</th>\n",
       "      <td>504.000000</td>\n",
       "      <td>504.000000</td>\n",
       "      <td>504.000000</td>\n",
       "      <td>504.000000</td>\n",
       "      <td>504.000000</td>\n",
       "      <td>504.000000</td>\n",
       "      <td>504.000000</td>\n",
       "    </tr>\n",
       "    <tr>\n",
       "      <th>mean</th>\n",
       "      <td>48.130952</td>\n",
       "      <td>16.023810</td>\n",
       "      <td>31.751984</td>\n",
       "      <td>4.123016</td>\n",
       "      <td>4.047619</td>\n",
       "      <td>2196.380952</td>\n",
       "      <td>0.767857</td>\n",
       "    </tr>\n",
       "    <tr>\n",
       "      <th>std</th>\n",
       "      <td>74.996426</td>\n",
       "      <td>23.957953</td>\n",
       "      <td>48.520783</td>\n",
       "      <td>1.007302</td>\n",
       "      <td>0.844650</td>\n",
       "      <td>1285.476807</td>\n",
       "      <td>80.692897</td>\n",
       "    </tr>\n",
       "    <tr>\n",
       "      <th>min</th>\n",
       "      <td>1.000000</td>\n",
       "      <td>0.000000</td>\n",
       "      <td>0.000000</td>\n",
       "      <td>1.000000</td>\n",
       "      <td>3.000000</td>\n",
       "      <td>188.000000</td>\n",
       "      <td>-1806.000000</td>\n",
       "    </tr>\n",
       "    <tr>\n",
       "      <th>25%</th>\n",
       "      <td>12.000000</td>\n",
       "      <td>5.000000</td>\n",
       "      <td>8.000000</td>\n",
       "      <td>4.000000</td>\n",
       "      <td>3.000000</td>\n",
       "      <td>826.000000</td>\n",
       "      <td>2.000000</td>\n",
       "    </tr>\n",
       "    <tr>\n",
       "      <th>50%</th>\n",
       "      <td>23.500000</td>\n",
       "      <td>9.000000</td>\n",
       "      <td>16.000000</td>\n",
       "      <td>4.000000</td>\n",
       "      <td>4.000000</td>\n",
       "      <td>2700.000000</td>\n",
       "      <td>4.000000</td>\n",
       "    </tr>\n",
       "    <tr>\n",
       "      <th>75%</th>\n",
       "      <td>54.250000</td>\n",
       "      <td>18.000000</td>\n",
       "      <td>35.000000</td>\n",
       "      <td>5.000000</td>\n",
       "      <td>5.000000</td>\n",
       "      <td>3025.000000</td>\n",
       "      <td>6.000000</td>\n",
       "    </tr>\n",
       "    <tr>\n",
       "      <th>max</th>\n",
       "      <td>775.000000</td>\n",
       "      <td>263.000000</td>\n",
       "      <td>365.000000</td>\n",
       "      <td>5.000000</td>\n",
       "      <td>5.000000</td>\n",
       "      <td>4027.000000</td>\n",
       "      <td>13.000000</td>\n",
       "    </tr>\n",
       "  </tbody>\n",
       "</table>\n",
       "</div>"
      ],
      "text/plain": [
       "       Nr_reviews  Nr_hotel_reviews  Helpful_votes       Score  Hotel_stars  \\\n",
       "count  504.000000        504.000000     504.000000  504.000000   504.000000   \n",
       "mean    48.130952         16.023810      31.751984    4.123016     4.047619   \n",
       "std     74.996426         23.957953      48.520783    1.007302     0.844650   \n",
       "min      1.000000          0.000000       0.000000    1.000000     3.000000   \n",
       "25%     12.000000          5.000000       8.000000    4.000000     3.000000   \n",
       "50%     23.500000          9.000000      16.000000    4.000000     4.000000   \n",
       "75%     54.250000         18.000000      35.000000    5.000000     5.000000   \n",
       "max    775.000000        263.000000     365.000000    5.000000     5.000000   \n",
       "\n",
       "          Nr_rooms  Member_years  \n",
       "count   504.000000    504.000000  \n",
       "mean   2196.380952      0.767857  \n",
       "std    1285.476807     80.692897  \n",
       "min     188.000000  -1806.000000  \n",
       "25%     826.000000      2.000000  \n",
       "50%    2700.000000      4.000000  \n",
       "75%    3025.000000      6.000000  \n",
       "max    4027.000000     13.000000  "
      ]
     },
     "execution_count": 548,
     "metadata": {},
     "output_type": "execute_result"
    }
   ],
   "source": [
    "vegas.describe()"
   ]
  },
  {
   "cell_type": "markdown",
   "metadata": {},
   "source": [
    "Drop/Delete the rows in Member_years that have negative values"
   ]
  },
  {
   "cell_type": "code",
   "execution_count": 549,
   "metadata": {},
   "outputs": [
    {
     "data": {
      "text/html": [
       "<div>\n",
       "<style scoped>\n",
       "    .dataframe tbody tr th:only-of-type {\n",
       "        vertical-align: middle;\n",
       "    }\n",
       "\n",
       "    .dataframe tbody tr th {\n",
       "        vertical-align: top;\n",
       "    }\n",
       "\n",
       "    .dataframe thead th {\n",
       "        text-align: right;\n",
       "    }\n",
       "</style>\n",
       "<table border=\"1\" class=\"dataframe\">\n",
       "  <thead>\n",
       "    <tr style=\"text-align: right;\">\n",
       "      <th></th>\n",
       "      <th>Nr_reviews</th>\n",
       "      <th>Nr_hotel_reviews</th>\n",
       "      <th>Helpful_votes</th>\n",
       "      <th>Score</th>\n",
       "      <th>Hotel_stars</th>\n",
       "      <th>Nr_rooms</th>\n",
       "      <th>Member_years</th>\n",
       "    </tr>\n",
       "  </thead>\n",
       "  <tbody>\n",
       "    <tr>\n",
       "      <th>count</th>\n",
       "      <td>503.000000</td>\n",
       "      <td>503.000000</td>\n",
       "      <td>503.000000</td>\n",
       "      <td>503.000000</td>\n",
       "      <td>503.000000</td>\n",
       "      <td>503.000000</td>\n",
       "      <td>503.000000</td>\n",
       "    </tr>\n",
       "    <tr>\n",
       "      <th>mean</th>\n",
       "      <td>48.192843</td>\n",
       "      <td>16.037773</td>\n",
       "      <td>31.783300</td>\n",
       "      <td>4.121272</td>\n",
       "      <td>4.047714</td>\n",
       "      <td>2195.013917</td>\n",
       "      <td>4.359841</td>\n",
       "    </tr>\n",
       "    <tr>\n",
       "      <th>std</th>\n",
       "      <td>75.058202</td>\n",
       "      <td>23.979751</td>\n",
       "      <td>48.563988</td>\n",
       "      <td>1.007544</td>\n",
       "      <td>0.845488</td>\n",
       "      <td>1286.389759</td>\n",
       "      <td>2.928725</td>\n",
       "    </tr>\n",
       "    <tr>\n",
       "      <th>min</th>\n",
       "      <td>1.000000</td>\n",
       "      <td>0.000000</td>\n",
       "      <td>0.000000</td>\n",
       "      <td>1.000000</td>\n",
       "      <td>3.000000</td>\n",
       "      <td>188.000000</td>\n",
       "      <td>0.000000</td>\n",
       "    </tr>\n",
       "    <tr>\n",
       "      <th>25%</th>\n",
       "      <td>12.000000</td>\n",
       "      <td>5.000000</td>\n",
       "      <td>8.000000</td>\n",
       "      <td>4.000000</td>\n",
       "      <td>3.000000</td>\n",
       "      <td>826.000000</td>\n",
       "      <td>2.000000</td>\n",
       "    </tr>\n",
       "    <tr>\n",
       "      <th>50%</th>\n",
       "      <td>24.000000</td>\n",
       "      <td>9.000000</td>\n",
       "      <td>16.000000</td>\n",
       "      <td>4.000000</td>\n",
       "      <td>4.000000</td>\n",
       "      <td>2700.000000</td>\n",
       "      <td>4.000000</td>\n",
       "    </tr>\n",
       "    <tr>\n",
       "      <th>75%</th>\n",
       "      <td>54.500000</td>\n",
       "      <td>18.000000</td>\n",
       "      <td>35.000000</td>\n",
       "      <td>5.000000</td>\n",
       "      <td>5.000000</td>\n",
       "      <td>3025.000000</td>\n",
       "      <td>6.000000</td>\n",
       "    </tr>\n",
       "    <tr>\n",
       "      <th>max</th>\n",
       "      <td>775.000000</td>\n",
       "      <td>263.000000</td>\n",
       "      <td>365.000000</td>\n",
       "      <td>5.000000</td>\n",
       "      <td>5.000000</td>\n",
       "      <td>4027.000000</td>\n",
       "      <td>13.000000</td>\n",
       "    </tr>\n",
       "  </tbody>\n",
       "</table>\n",
       "</div>"
      ],
      "text/plain": [
       "       Nr_reviews  Nr_hotel_reviews  Helpful_votes       Score  Hotel_stars  \\\n",
       "count  503.000000        503.000000     503.000000  503.000000   503.000000   \n",
       "mean    48.192843         16.037773      31.783300    4.121272     4.047714   \n",
       "std     75.058202         23.979751      48.563988    1.007544     0.845488   \n",
       "min      1.000000          0.000000       0.000000    1.000000     3.000000   \n",
       "25%     12.000000          5.000000       8.000000    4.000000     3.000000   \n",
       "50%     24.000000          9.000000      16.000000    4.000000     4.000000   \n",
       "75%     54.500000         18.000000      35.000000    5.000000     5.000000   \n",
       "max    775.000000        263.000000     365.000000    5.000000     5.000000   \n",
       "\n",
       "          Nr_rooms  Member_years  \n",
       "count   503.000000    503.000000  \n",
       "mean   2195.013917      4.359841  \n",
       "std    1286.389759      2.928725  \n",
       "min     188.000000      0.000000  \n",
       "25%     826.000000      2.000000  \n",
       "50%    2700.000000      4.000000  \n",
       "75%    3025.000000      6.000000  \n",
       "max    4027.000000     13.000000  "
      ]
     },
     "execution_count": 549,
     "metadata": {},
     "output_type": "execute_result"
    }
   ],
   "source": [
    "df = vegas[vegas['Member_years']< 0].index.values.astype(int)[0]\n",
    "vegas.drop(df, axis =0, inplace = True)\n",
    "vegas.describe()"
   ]
  },
  {
   "cell_type": "markdown",
   "metadata": {},
   "source": [
    "Check the value count of each columns"
   ]
  },
  {
   "cell_type": "code",
   "execution_count": 550,
   "metadata": {},
   "outputs": [
    {
     "data": {
      "text/plain": [
       "USA                     216\n",
       "UK                       72\n",
       "Canada                   65\n",
       "Australia                36\n",
       "Ireland                  13\n",
       "India                    11\n",
       "Mexico                    8\n",
       "Germany                   7\n",
       "New Zeland                5\n",
       "Egypt                     5\n",
       "Brazil                    5\n",
       "Singapore                 4\n",
       "Netherlands               4\n",
       "Norway                    3\n",
       "Malaysia                  3\n",
       "Israel                    3\n",
       "Thailand                  3\n",
       "Finland                   3\n",
       "Hawaii                    3\n",
       "Spain                     2\n",
       "Scotland                  2\n",
       "Switzerland               2\n",
       "Costa Rica                2\n",
       "United Arab Emirates      2\n",
       "South Africa              1\n",
       "Kuwait                    1\n",
       "Swiss                     1\n",
       "Syria                     1\n",
       "Puerto Rico               1\n",
       "Hungary                   1\n",
       "Italy                     1\n",
       "Korea                     1\n",
       "Denmark                   1\n",
       "Iran                      1\n",
       "Phillippines              1\n",
       "Saudi Arabia              1\n",
       "Kenya                     1\n",
       "Greece                    1\n",
       "France                    1\n",
       "India                     1\n",
       "Taiwan                    1\n",
       "China                     1\n",
       "Belgium                   1\n",
       "Jordan                    1\n",
       "Croatia                   1\n",
       "Japan                     1\n",
       "Czech Republic            1\n",
       "Honduras                  1\n",
       "Name: User_country, dtype: int64"
      ]
     },
     "execution_count": 550,
     "metadata": {},
     "output_type": "execute_result"
    }
   ],
   "source": [
    "vegas.User_country.value_counts(dropna = False)\n",
    "#vegas"
   ]
  },
  {
   "cell_type": "code",
   "execution_count": 551,
   "metadata": {},
   "outputs": [
    {
     "data": {
      "text/plain": [
       "User_country        object\n",
       "Nr_reviews           int64\n",
       "Nr_hotel_reviews     int64\n",
       "Helpful_votes        int64\n",
       "Score                int64\n",
       "Period_of_stay      object\n",
       "Traveler_type       object\n",
       "Pool                object\n",
       "Gym                 object\n",
       "Tennis_court        object\n",
       "Spa                 object\n",
       "Casino              object\n",
       "Free_internet       object\n",
       "Hotel_name          object\n",
       "Hotel_stars          int64\n",
       "Nr_rooms             int64\n",
       "User_continent      object\n",
       "Member_years         int64\n",
       "Review_month        object\n",
       "Review_weekday      object\n",
       "dtype: object"
      ]
     },
     "execution_count": 551,
     "metadata": {},
     "output_type": "execute_result"
    }
   ],
   "source": [
    "vegas.dtypes"
   ]
  },
  {
   "cell_type": "markdown",
   "metadata": {},
   "source": [
    "## Data Visualizations"
   ]
  },
  {
   "cell_type": "code",
   "execution_count": 1,
   "metadata": {},
   "outputs": [
    {
     "ename": "NameError",
     "evalue": "name 'pd' is not defined",
     "output_type": "error",
     "traceback": [
      "\u001b[0;31m---------------------------------------------------------------------------\u001b[0m",
      "\u001b[0;31mNameError\u001b[0m                                 Traceback (most recent call last)",
      "\u001b[0;32m<ipython-input-1-bb0019ae1009>\u001b[0m in \u001b[0;36m<module>\u001b[0;34m\u001b[0m\n\u001b[0;32m----> 1\u001b[0;31m \u001b[0mcount_Class\u001b[0m\u001b[0;34m=\u001b[0m\u001b[0mpd\u001b[0m\u001b[0;34m.\u001b[0m\u001b[0mvalue_counts\u001b[0m\u001b[0;34m(\u001b[0m\u001b[0mvegas\u001b[0m\u001b[0;34m[\u001b[0m\u001b[0;34m\"score\"\u001b[0m\u001b[0;34m]\u001b[0m\u001b[0;34m,\u001b[0m \u001b[0msort\u001b[0m\u001b[0;34m=\u001b[0m \u001b[0;32mTrue\u001b[0m\u001b[0;34m)\u001b[0m\u001b[0;34m\u001b[0m\u001b[0;34m\u001b[0m\u001b[0m\n\u001b[0m\u001b[1;32m      2\u001b[0m \u001b[0mcount_Class\u001b[0m\u001b[0;34m.\u001b[0m\u001b[0mplot\u001b[0m\u001b[0;34m(\u001b[0m\u001b[0mkind\u001b[0m\u001b[0;34m=\u001b[0m \u001b[0;34m'bar'\u001b[0m\u001b[0;34m,\u001b[0m \u001b[0mcolor\u001b[0m\u001b[0;34m=\u001b[0m \u001b[0;34m[\u001b[0m\u001b[0;34m\"blue\"\u001b[0m\u001b[0;34m,\u001b[0m \u001b[0;34m\"orange\"\u001b[0m\u001b[0;34m]\u001b[0m\u001b[0;34m)\u001b[0m\u001b[0;34m\u001b[0m\u001b[0;34m\u001b[0m\u001b[0m\n\u001b[1;32m      3\u001b[0m \u001b[0mplt\u001b[0m\u001b[0;34m.\u001b[0m\u001b[0mtitle\u001b[0m\u001b[0;34m(\u001b[0m\u001b[0;34m'Bar chart'\u001b[0m\u001b[0;34m)\u001b[0m\u001b[0;34m\u001b[0m\u001b[0;34m\u001b[0m\u001b[0m\n\u001b[1;32m      4\u001b[0m \u001b[0mplt\u001b[0m\u001b[0;34m.\u001b[0m\u001b[0mshow\u001b[0m\u001b[0;34m(\u001b[0m\u001b[0;34m)\u001b[0m\u001b[0;34m\u001b[0m\u001b[0;34m\u001b[0m\u001b[0m\n",
      "\u001b[0;31mNameError\u001b[0m: name 'pd' is not defined"
     ]
    }
   ],
   "source": [
    "count_Class=pd.value_counts(vegas[\"score\"], sort= True)\n",
    "count_Class.plot(kind= 'bar', color= [\"blue\", \"orange\"])\n",
    "plt.title('Bar chart')\n",
    "plt.show()"
   ]
  },
  {
   "cell_type": "code",
   "execution_count": 552,
   "metadata": {},
   "outputs": [
    {
     "data": {
      "text/plain": [
       "Text(0, 0.5, 'Score Frequency')"
      ]
     },
     "execution_count": 552,
     "metadata": {},
     "output_type": "execute_result"
    },
    {
     "data": {
      "image/png": "[encoded data removed]",
      "text/plain": [
       "<Figure size 432x288 with 1 Axes>"
      ]
     },
     "metadata": {
      "needs_background": "light"
     },
     "output_type": "display_data"
    }
   ],
   "source": [
    "#Bar Plot\n",
    "%matplotlib inline\n",
    "pd.crosstab(vegas.Hotel_name,vegas.Score).plot(kind='bar')\n",
    "plt.title('Frequency for Hotel Ccores')\n",
    "plt.xlabel('Hotels')\n",
    "plt.ylabel('Score Frequency')"
   ]
  },
  {
   "cell_type": "markdown",
   "metadata": {},
   "source": [
    "The Bar graph from above suggest that guests rating seems to be biased. Guests are satisfied with most hotels, as the  majority of ratings are towards the top rating of 4, 5 as shown in red and purple line.\n"
   ]
  },
  {
   "cell_type": "code",
   "execution_count": 553,
   "metadata": {},
   "outputs": [
    {
     "data": {
      "image/png": "[encoded data removed]",
      "text/plain": [
       "<Figure size 432x288 with 1 Axes>"
      ]
     },
     "metadata": {
      "needs_background": "light"
     },
     "output_type": "display_data"
    }
   ],
   "source": [
    "#Boxplot for member years\n",
    "vegas.boxplot(column='Nr_hotel_reviews', by='Score', rot=90)\n",
    "plt.show()"
   ]
  },
  {
   "cell_type": "code",
   "execution_count": null,
   "metadata": {},
   "outputs": [],
   "source": []
  },
  {
   "cell_type": "code",
   "execution_count": 554,
   "metadata": {},
   "outputs": [
    {
     "data": {
      "image/png": "[encoded data removed]",
      "text/plain": [
       "<Figure size 900x180 with 5 Axes>"
      ]
     },
     "metadata": {
      "needs_background": "light"
     },
     "output_type": "display_data"
    },
    {
     "data": {
      "image/png": "[encoded data removed]",
      "text/plain": [
       "<Figure size 900x180 with 5 Axes>"
      ]
     },
     "metadata": {
      "needs_background": "light"
     },
     "output_type": "display_data"
    },
    {
     "data": {
      "image/png": "[encoded data removed]",
      "text/plain": [
       "<Figure size 900x180 with 5 Axes>"
      ]
     },
     "metadata": {
      "needs_background": "light"
     },
     "output_type": "display_data"
    },
    {
     "data": {
      "image/png": "[encoded data removed]",
      "text/plain": [
       "<Figure size 900x180 with 5 Axes>"
      ]
     },
     "metadata": {
      "needs_background": "light"
     },
     "output_type": "display_data"
    }
   ],
   "source": [
    "for i in range(0, len(vegas.columns),5):\n",
    "    sns.pairplot(vegas, y_vars = 'Score', x_vars = vegas.columns[i:i+5])"
   ]
  },
  {
   "cell_type": "markdown",
   "metadata": {},
   "source": [
    "The Correlation heatmap and correlation we can analyse that there are no correlation between the variables. Hence we have to use multiple variables for Modeling."
   ]
  },
  {
   "cell_type": "code",
   "execution_count": 555,
   "metadata": {},
   "outputs": [
    {
     "data": {
      "text/html": [
       "<div>\n",
       "<style scoped>\n",
       "    .dataframe tbody tr th:only-of-type {\n",
       "        vertical-align: middle;\n",
       "    }\n",
       "\n",
       "    .dataframe tbody tr th {\n",
       "        vertical-align: top;\n",
       "    }\n",
       "\n",
       "    .dataframe thead th {\n",
       "        text-align: right;\n",
       "    }\n",
       "</style>\n",
       "<table border=\"1\" class=\"dataframe\">\n",
       "  <thead>\n",
       "    <tr style=\"text-align: right;\">\n",
       "      <th></th>\n",
       "      <th>Nr_reviews</th>\n",
       "      <th>Nr_hotel_reviews</th>\n",
       "      <th>Helpful_votes</th>\n",
       "      <th>Score</th>\n",
       "      <th>Hotel_stars</th>\n",
       "      <th>Nr_rooms</th>\n",
       "      <th>Member_years</th>\n",
       "    </tr>\n",
       "  </thead>\n",
       "  <tbody>\n",
       "    <tr>\n",
       "      <th>Nr_reviews</th>\n",
       "      <td>1.000000</td>\n",
       "      <td>0.655006</td>\n",
       "      <td>0.790646</td>\n",
       "      <td>-0.023622</td>\n",
       "      <td>-0.071714</td>\n",
       "      <td>-0.136200</td>\n",
       "      <td>0.117751</td>\n",
       "    </tr>\n",
       "    <tr>\n",
       "      <th>Nr_hotel_reviews</th>\n",
       "      <td>0.655006</td>\n",
       "      <td>1.000000</td>\n",
       "      <td>0.764278</td>\n",
       "      <td>0.014239</td>\n",
       "      <td>-0.109051</td>\n",
       "      <td>-0.128631</td>\n",
       "      <td>0.292923</td>\n",
       "    </tr>\n",
       "    <tr>\n",
       "      <th>Helpful_votes</th>\n",
       "      <td>0.790646</td>\n",
       "      <td>0.764278</td>\n",
       "      <td>1.000000</td>\n",
       "      <td>0.016049</td>\n",
       "      <td>-0.037104</td>\n",
       "      <td>-0.098840</td>\n",
       "      <td>0.269738</td>\n",
       "    </tr>\n",
       "    <tr>\n",
       "      <th>Score</th>\n",
       "      <td>-0.023622</td>\n",
       "      <td>0.014239</td>\n",
       "      <td>0.016049</td>\n",
       "      <td>1.000000</td>\n",
       "      <td>0.156884</td>\n",
       "      <td>-0.081212</td>\n",
       "      <td>0.072942</td>\n",
       "    </tr>\n",
       "    <tr>\n",
       "      <th>Hotel_stars</th>\n",
       "      <td>-0.071714</td>\n",
       "      <td>-0.109051</td>\n",
       "      <td>-0.037104</td>\n",
       "      <td>0.156884</td>\n",
       "      <td>1.000000</td>\n",
       "      <td>0.421151</td>\n",
       "      <td>0.034080</td>\n",
       "    </tr>\n",
       "    <tr>\n",
       "      <th>Nr_rooms</th>\n",
       "      <td>-0.136200</td>\n",
       "      <td>-0.128631</td>\n",
       "      <td>-0.098840</td>\n",
       "      <td>-0.081212</td>\n",
       "      <td>0.421151</td>\n",
       "      <td>1.000000</td>\n",
       "      <td>-0.017445</td>\n",
       "    </tr>\n",
       "    <tr>\n",
       "      <th>Member_years</th>\n",
       "      <td>0.117751</td>\n",
       "      <td>0.292923</td>\n",
       "      <td>0.269738</td>\n",
       "      <td>0.072942</td>\n",
       "      <td>0.034080</td>\n",
       "      <td>-0.017445</td>\n",
       "      <td>1.000000</td>\n",
       "    </tr>\n",
       "  </tbody>\n",
       "</table>\n",
       "</div>"
      ],
      "text/plain": [
       "                  Nr_reviews  Nr_hotel_reviews  Helpful_votes     Score  \\\n",
       "Nr_reviews          1.000000          0.655006       0.790646 -0.023622   \n",
       "Nr_hotel_reviews    0.655006          1.000000       0.764278  0.014239   \n",
       "Helpful_votes       0.790646          0.764278       1.000000  0.016049   \n",
       "Score              -0.023622          0.014239       0.016049  1.000000   \n",
       "Hotel_stars        -0.071714         -0.109051      -0.037104  0.156884   \n",
       "Nr_rooms           -0.136200         -0.128631      -0.098840 -0.081212   \n",
       "Member_years        0.117751          0.292923       0.269738  0.072942   \n",
       "\n",
       "                  Hotel_stars  Nr_rooms  Member_years  \n",
       "Nr_reviews          -0.071714 -0.136200      0.117751  \n",
       "Nr_hotel_reviews    -0.109051 -0.128631      0.292923  \n",
       "Helpful_votes       -0.037104 -0.098840      0.269738  \n",
       "Score                0.156884 -0.081212      0.072942  \n",
       "Hotel_stars          1.000000  0.421151      0.034080  \n",
       "Nr_rooms             0.421151  1.000000     -0.017445  \n",
       "Member_years         0.034080 -0.017445      1.000000  "
      ]
     },
     "execution_count": 555,
     "metadata": {},
     "output_type": "execute_result"
    },
    {
     "data": {
      "image/png": "[encoded data removed]",
      "text/plain": [
       "<Figure size 432x288 with 2 Axes>"
      ]
     },
     "metadata": {
      "needs_background": "light"
     },
     "output_type": "display_data"
    }
   ],
   "source": [
    "correlation_matrix = vegas.corr().round(2)\n",
    "sns.heatmap(data=correlation_matrix, annot=True)\n",
    "\n",
    "vegas.corr()"
   ]
  },
  {
   "cell_type": "markdown",
   "metadata": {},
   "source": [
    "Change the varibles from strings to integers, this can be done in 2 ways \n",
    "1) Get Dummies\n",
    "2) Change the values to binary, in our case since many values are yes and no, we are chnaging them to 0, 1"
   ]
  },
  {
   "cell_type": "code",
   "execution_count": 556,
   "metadata": {},
   "outputs": [],
   "source": [
    "def changeyesno(x):\n",
    "    if x==\"YES\":\n",
    "        return 1\n",
    "    else:\n",
    "        return 0\n",
    "    \n",
    "def changestr(str):\n",
    "    x=0\n",
    "    for l in str:\n",
    "        x += ord(l)\n",
    "    return int(x)\n",
    "\n",
    "vegas['Casino']=vegas['Casino'].apply(lambda x : changeyesno(x))\n",
    "vegas['Gym']=vegas['Gym'].apply(lambda x : changeyesno(x))\n",
    "vegas['Pool']=vegas['Pool'].apply(lambda x : changeyesno(x))\n",
    "vegas['Tennis_court']=vegas['Tennis_court'].apply(lambda x : changeyesno(x))\n",
    "vegas['Casino']=vegas['Casino'].apply(lambda x : changeyesno(x))\n",
    "vegas['Free_internet']=vegas['Free_internet'].apply(lambda x : changeyesno(x))\n",
    "vegas['Spa']=vegas['Spa'].apply(lambda x : changeyesno(x))\n",
    "\n",
    "\n",
    "Str_columns = ['Period_of_stay', 'Hotel_name', 'User_country',\n",
    "         'Traveler_type', 'User_continent', 'Review_month', 'Review_weekday']\n",
    "\n",
    "for y in Str_columns:\n",
    "    vegas[y]=vegas[y].apply(lambda x: changestr(x))"
   ]
  },
  {
   "cell_type": "code",
   "execution_count": 557,
   "metadata": {},
   "outputs": [
    {
     "data": {
      "text/html": [
       "<div>\n",
       "<style scoped>\n",
       "    .dataframe tbody tr th:only-of-type {\n",
       "        vertical-align: middle;\n",
       "    }\n",
       "\n",
       "    .dataframe tbody tr th {\n",
       "        vertical-align: top;\n",
       "    }\n",
       "\n",
       "    .dataframe thead th {\n",
       "        text-align: right;\n",
       "    }\n",
       "</style>\n",
       "<table border=\"1\" class=\"dataframe\">\n",
       "  <thead>\n",
       "    <tr style=\"text-align: right;\">\n",
       "      <th></th>\n",
       "      <th>User_country</th>\n",
       "      <th>Nr_reviews</th>\n",
       "      <th>Nr_hotel_reviews</th>\n",
       "      <th>Helpful_votes</th>\n",
       "      <th>Score</th>\n",
       "      <th>Period_of_stay</th>\n",
       "      <th>Traveler_type</th>\n",
       "      <th>Pool</th>\n",
       "      <th>Gym</th>\n",
       "      <th>Tennis_court</th>\n",
       "      <th>Spa</th>\n",
       "      <th>Casino</th>\n",
       "      <th>Free_internet</th>\n",
       "      <th>Hotel_name</th>\n",
       "      <th>Hotel_stars</th>\n",
       "      <th>Nr_rooms</th>\n",
       "      <th>User_continent</th>\n",
       "      <th>Member_years</th>\n",
       "      <th>Review_month</th>\n",
       "      <th>Review_weekday</th>\n",
       "    </tr>\n",
       "  </thead>\n",
       "  <tbody>\n",
       "    <tr>\n",
       "      <th>0</th>\n",
       "      <td>233</td>\n",
       "      <td>11</td>\n",
       "      <td>4</td>\n",
       "      <td>13</td>\n",
       "      <td>5</td>\n",
       "      <td>582</td>\n",
       "      <td>715</td>\n",
       "      <td>0</td>\n",
       "      <td>1</td>\n",
       "      <td>0</td>\n",
       "      <td>0</td>\n",
       "      <td>0</td>\n",
       "      <td>1</td>\n",
       "      <td>3367</td>\n",
       "      <td>3</td>\n",
       "      <td>3773</td>\n",
       "      <td>1245</td>\n",
       "      <td>9</td>\n",
       "      <td>730</td>\n",
       "      <td>852</td>\n",
       "    </tr>\n",
       "    <tr>\n",
       "      <th>1</th>\n",
       "      <td>233</td>\n",
       "      <td>119</td>\n",
       "      <td>21</td>\n",
       "      <td>75</td>\n",
       "      <td>3</td>\n",
       "      <td>582</td>\n",
       "      <td>844</td>\n",
       "      <td>0</td>\n",
       "      <td>1</td>\n",
       "      <td>0</td>\n",
       "      <td>0</td>\n",
       "      <td>0</td>\n",
       "      <td>1</td>\n",
       "      <td>3367</td>\n",
       "      <td>3</td>\n",
       "      <td>3773</td>\n",
       "      <td>1245</td>\n",
       "      <td>3</td>\n",
       "      <td>730</td>\n",
       "      <td>607</td>\n",
       "    </tr>\n",
       "    <tr>\n",
       "      <th>2</th>\n",
       "      <td>233</td>\n",
       "      <td>36</td>\n",
       "      <td>9</td>\n",
       "      <td>25</td>\n",
       "      <td>5</td>\n",
       "      <td>628</td>\n",
       "      <td>810</td>\n",
       "      <td>0</td>\n",
       "      <td>1</td>\n",
       "      <td>0</td>\n",
       "      <td>0</td>\n",
       "      <td>0</td>\n",
       "      <td>1</td>\n",
       "      <td>3367</td>\n",
       "      <td>3</td>\n",
       "      <td>3773</td>\n",
       "      <td>1245</td>\n",
       "      <td>2</td>\n",
       "      <td>832</td>\n",
       "      <td>845</td>\n",
       "    </tr>\n",
       "    <tr>\n",
       "      <th>3</th>\n",
       "      <td>160</td>\n",
       "      <td>14</td>\n",
       "      <td>7</td>\n",
       "      <td>14</td>\n",
       "      <td>4</td>\n",
       "      <td>628</td>\n",
       "      <td>715</td>\n",
       "      <td>0</td>\n",
       "      <td>1</td>\n",
       "      <td>0</td>\n",
       "      <td>0</td>\n",
       "      <td>0</td>\n",
       "      <td>1</td>\n",
       "      <td>3367</td>\n",
       "      <td>3</td>\n",
       "      <td>3773</td>\n",
       "      <td>624</td>\n",
       "      <td>6</td>\n",
       "      <td>832</td>\n",
       "      <td>607</td>\n",
       "    </tr>\n",
       "    <tr>\n",
       "      <th>4</th>\n",
       "      <td>568</td>\n",
       "      <td>5</td>\n",
       "      <td>5</td>\n",
       "      <td>2</td>\n",
       "      <td>4</td>\n",
       "      <td>628</td>\n",
       "      <td>413</td>\n",
       "      <td>0</td>\n",
       "      <td>1</td>\n",
       "      <td>0</td>\n",
       "      <td>0</td>\n",
       "      <td>0</td>\n",
       "      <td>1</td>\n",
       "      <td>3367</td>\n",
       "      <td>3</td>\n",
       "      <td>3773</td>\n",
       "      <td>1245</td>\n",
       "      <td>7</td>\n",
       "      <td>491</td>\n",
       "      <td>735</td>\n",
       "    </tr>\n",
       "  </tbody>\n",
       "</table>\n",
       "</div>"
      ],
      "text/plain": [
       "   User_country  Nr_reviews  Nr_hotel_reviews  Helpful_votes  Score  \\\n",
       "0           233          11                 4             13      5   \n",
       "1           233         119                21             75      3   \n",
       "2           233          36                 9             25      5   \n",
       "3           160          14                 7             14      4   \n",
       "4           568           5                 5              2      4   \n",
       "\n",
       "   Period_of_stay  Traveler_type  Pool  Gym  Tennis_court  Spa  Casino  \\\n",
       "0             582            715     0    1             0    0       0   \n",
       "1             582            844     0    1             0    0       0   \n",
       "2             628            810     0    1             0    0       0   \n",
       "3             628            715     0    1             0    0       0   \n",
       "4             628            413     0    1             0    0       0   \n",
       "\n",
       "   Free_internet  Hotel_name  Hotel_stars  Nr_rooms  User_continent  \\\n",
       "0              1        3367            3      3773            1245   \n",
       "1              1        3367            3      3773            1245   \n",
       "2              1        3367            3      3773            1245   \n",
       "3              1        3367            3      3773             624   \n",
       "4              1        3367            3      3773            1245   \n",
       "\n",
       "   Member_years  Review_month  Review_weekday  \n",
       "0             9           730             852  \n",
       "1             3           730             607  \n",
       "2             2           832             845  \n",
       "3             6           832             607  \n",
       "4             7           491             735  "
      ]
     },
     "execution_count": 557,
     "metadata": {},
     "output_type": "execute_result"
    }
   ],
   "source": [
    "vegas.head()"
   ]
  },
  {
   "cell_type": "code",
   "execution_count": 558,
   "metadata": {},
   "outputs": [],
   "source": [
    "new_df = pd.DataFrame(vegas,columns=vegas.columns)"
   ]
  },
  {
   "cell_type": "code",
   "execution_count": 559,
   "metadata": {},
   "outputs": [],
   "source": [
    "new_df.drop(['Free_internet','Nr_hotel_reviews','Period_of_stay','Nr_reviews','User_country','Traveler_type','Pool','Gym','Tennis_court','Spa','Casino','Nr_rooms','User_continent','Review_month','Review_weekday'],axis=1, inplace=True)"
   ]
  },
  {
   "cell_type": "markdown",
   "metadata": {},
   "source": [
    "## Predictive Model (Classification) - K Nearest Neighbour\n",
    "Goal is to predict score based on the variables like Helpful_votes, Hotel_stars, Period_of_stay etc. KNN helps to build the model using the training set, and then check the accuracy using the testing set.\n",
    "\n",
    "How to Prepare Data for KNN\n",
    "\n",
    "1) Rescale Data : KNN performs much better if all of the data has the same scale. Normalizing your data to the range [0, 1] is a good idea. It may also be a good idea to standardize your data if it has a Gaussian distribution.\n",
    "\n",
    "2) Address Missing Data (performed above) : Missing data will mean that the distance between samples can not be calculated. These samples could be excluded or the missing values could be imputed.\n",
    "\n",
    "3) SMOTE - Synthetic Minority Over-sampling Technique :  This technique removes imbalance in data by oversampling data by creating synthethic variations in the data. Thus helping us to balance our skewed dataset while not biasing the model.\n",
    "\n",
    "### Load Features and Targets\n",
    "Now we will create the input features X and output feature Y from the dataset"
   ]
  },
  {
   "cell_type": "code",
   "execution_count": 602,
   "metadata": {},
   "outputs": [],
   "source": [
    "X = vegas.drop('Score',axis=1)\n",
    "y = vegas['Score']"
   ]
  },
  {
   "cell_type": "markdown",
   "metadata": {},
   "source": [
    "### Split Train and Test Sets\n",
    "We performed a Test-train split. Splitting our training and test data into a 60-40 (Train-Test) ratio."
   ]
  },
  {
   "cell_type": "code",
   "execution_count": 603,
   "metadata": {},
   "outputs": [],
   "source": [
    "from sklearn.model_selection import train_test_split  \n",
    "X_train, X_test, y_train, y_test = train_test_split(X, y, test_size= 0.40)"
   ]
  },
  {
   "cell_type": "markdown",
   "metadata": {},
   "source": [
    "### SMOTE - Synthetic Minority Over-sampling Technique\n",
    "\n",
    "Since we are dealing with imbalanced data all the ratings are skewed towards 4,5 ratings. We performed SMOTE(Synthetic Minority Over-sampling Technique) on our data. This technique removes imbalance in data by oversampling data by creating synthethic variations in the data. Thus helping us to balance our skewed dataset while not biasing the model."
   ]
  },
  {
   "cell_type": "code",
   "execution_count": 604,
   "metadata": {},
   "outputs": [],
   "source": [
    "# Using SMOTE to balance the train data we have\n",
    "from imblearn.over_sampling import SMOTE\n",
    "sm = SMOTE(random_state=42)\n",
    "X_train, y_train = sm.fit_sample(X_train,np.array(y_train).ravel())"
   ]
  },
  {
   "cell_type": "markdown",
   "metadata": {},
   "source": [
    "### Transform Feature Values\n",
    "As mentioned above we need to Rescale Data using StandardScaler"
   ]
  },
  {
   "cell_type": "code",
   "execution_count": 605,
   "metadata": {},
   "outputs": [
    {
     "name": "stderr",
     "output_type": "stream",
     "text": [
      "/anaconda3/lib/python3.7/site-packages/sklearn/utils/validation.py:595: DataConversionWarning: Data with input dtype int64 was converted to float64 by StandardScaler.\n",
      "  warnings.warn(msg, DataConversionWarning)\n",
      "/anaconda3/lib/python3.7/site-packages/sklearn/utils/validation.py:595: DataConversionWarning: Data with input dtype int64 was converted to float64 by StandardScaler.\n",
      "  warnings.warn(msg, DataConversionWarning)\n",
      "/anaconda3/lib/python3.7/site-packages/ipykernel_launcher.py:6: DataConversionWarning: Data with input dtype int64 were all converted to float64 by StandardScaler.\n",
      "  \n"
     ]
    }
   ],
   "source": [
    "from sklearn.preprocessing import StandardScaler  \n",
    "scaler = StandardScaler()  \n",
    "scaler.fit(X_train)\n",
    "\n",
    "X_train = scaler.transform(X_train)  \n",
    "X_test = scaler.transform(X_test) "
   ]
  },
  {
   "cell_type": "markdown",
   "metadata": {},
   "source": [
    "### Fit Model"
   ]
  },
  {
   "cell_type": "code",
   "execution_count": 606,
   "metadata": {},
   "outputs": [
    {
     "data": {
      "text/plain": [
       "KNeighborsClassifier(algorithm='auto', leaf_size=30, metric='minkowski',\n",
       "           metric_params=None, n_jobs=None, n_neighbors=5, p=2,\n",
       "           weights='uniform')"
      ]
     },
     "execution_count": 606,
     "metadata": {},
     "output_type": "execute_result"
    }
   ],
   "source": [
    "from sklearn.neighbors import KNeighborsClassifier  \n",
    "classifier = KNeighborsClassifier(n_neighbors=5)  \n",
    "classifier.fit(X_train, y_train) "
   ]
  },
  {
   "cell_type": "markdown",
   "metadata": {},
   "source": [
    "### Predict Metric - Testing our models\n",
    "\n",
    "Using the optimized hyper parameters learnt from cross validation we tested our models using the test data. The evaluation metrics used were confusion matrix, accuracy and f1-score.\n",
    "\n",
    "A) Confusion matrix: It computes the accuracy of a classification. It counts true negatives, false negatives, true positives, and false positives.\n",
    "\n",
    "B) Accuracy: It determines how well the model performs based on true and predicted labels.\n",
    "\n",
    "A) F-1 score: It computes the weighted average of precision and recall. A score closer to 1 is considered as good and 0 as bad.\n"
   ]
  },
  {
   "cell_type": "code",
   "execution_count": 607,
   "metadata": {},
   "outputs": [
    {
     "name": "stdout",
     "output_type": "stream",
     "text": [
      "Mean value is : 0.6831683168316832\n",
      "\n",
      "\n",
      "[[ 1  0  1  1  0]\n",
      " [ 1  1  5  3  0]\n",
      " [ 2  6 10 10  2]\n",
      " [ 7 11 16 19 10]\n",
      " [ 8 15 16 24 33]]\n",
      "\n",
      "\n",
      "              precision    recall  f1-score   support\n",
      "\n",
      "           1       0.05      0.33      0.09         3\n",
      "           2       0.03      0.10      0.05        10\n",
      "           3       0.21      0.33      0.26        30\n",
      "           4       0.33      0.30      0.32        63\n",
      "           5       0.73      0.34      0.47        96\n",
      "\n",
      "   micro avg       0.32      0.32      0.32       202\n",
      "   macro avg       0.27      0.28      0.24       202\n",
      "weighted avg       0.49      0.32      0.36       202\n",
      "\n"
     ]
    }
   ],
   "source": [
    "from sklearn.metrics import classification_report, confusion_matrix  \n",
    "y_pred = classifier.predict(X_test)   \n",
    "print(\"Mean value is :\",np.mean(y_pred != y_test))\n",
    "print('\\n')\n",
    "print(confusion_matrix(y_test, y_pred))\n",
    "print('\\n')\n",
    "print(classification_report(y_test, y_pred))"
   ]
  },
  {
   "cell_type": "markdown",
   "metadata": {},
   "source": [
    "### Finding the Optimal K\n",
    "Before Fitting the Model, we have to check the optimal value for K, we can do this by using crossvalidation approach."
   ]
  },
  {
   "cell_type": "code",
   "execution_count": 608,
   "metadata": {},
   "outputs": [],
   "source": [
    "kval = [1, 5, 8, 10, 13, 18, 20]\n",
    "scores = []\n",
    "# running for different K values to know which yields the max accuracy. \n",
    "for i in kval:   \n",
    "    knn = neighbors.KNeighborsClassifier(n_neighbors = i)\n",
    "    knn.fit(X_train, y_train)\n",
    "    score = cross_val_score(knn, X_train, y_train, cv = 5)\n",
    "    scores.append(score.mean())\n",
    "mse = [1-x for x in scores]"
   ]
  },
  {
   "cell_type": "markdown",
   "metadata": {},
   "source": [
    "### Plot Result"
   ]
  },
  {
   "cell_type": "code",
   "execution_count": 587,
   "metadata": {},
   "outputs": [
    {
     "data": {
      "text/plain": [
       "Text(0, 0.5, 'Mean Error')"
      ]
     },
     "execution_count": 587,
     "metadata": {},
     "output_type": "execute_result"
    },
    {
     "data": {
      "image/png": "[encoded data removed]",
      "text/plain": [
       "<Figure size 864x432 with 1 Axes>"
      ]
     },
     "metadata": {
      "needs_background": "light"
     },
     "output_type": "display_data"
    }
   ],
   "source": [
    "plt.figure(figsize=(12, 6))  \n",
    "plt.plot(kval, mse, color='red', linestyle='dashed', marker='o',  \n",
    "         markerfacecolor='blue', markersize=10)\n",
    "plt.title('Error Rate K Value')  \n",
    "plt.xlabel('K Value')  \n",
    "plt.ylabel('Mean Error') "
   ]
  },
  {
   "cell_type": "markdown",
   "metadata": {},
   "source": [
    "The plot shows the test set accuracy on the y-axis against the setting of n_neighbors on the x-axis. Considering if we choose one single nearest neighbor, the prediction on the training set is perfect. But when more neighbors are considered, the training accuracy drops, indicating that using the single nearest neighbor leads to a model that is too complex. The best performance is somewhere around 13 neighbors.\n",
    "\n",
    "The above plot suggests that we should choose n_neighbors=13.\n",
    "\n",
    "### Now Fit the Optimal K equals 5 "
   ]
  },
  {
   "cell_type": "code",
   "execution_count": 609,
   "metadata": {},
   "outputs": [
    {
     "data": {
      "text/plain": [
       "KNeighborsClassifier(algorithm='auto', leaf_size=30, metric='minkowski',\n",
       "           metric_params=None, n_jobs=None, n_neighbors=5, p=2,\n",
       "           weights='uniform')"
      ]
     },
     "execution_count": 609,
     "metadata": {},
     "output_type": "execute_result"
    }
   ],
   "source": [
    "classifier = KNeighborsClassifier(n_neighbors=5)  \n",
    "classifier.fit(X_train, y_train) "
   ]
  },
  {
   "cell_type": "markdown",
   "metadata": {},
   "source": [
    "### Predict Metric"
   ]
  },
  {
   "cell_type": "code",
   "execution_count": 610,
   "metadata": {},
   "outputs": [
    {
     "name": "stdout",
     "output_type": "stream",
     "text": [
      "              precision    recall  f1-score   support\n",
      "\n",
      "           1       0.05      0.33      0.09         3\n",
      "           2       0.03      0.10      0.05        10\n",
      "           3       0.21      0.33      0.26        30\n",
      "           4       0.33      0.30      0.32        63\n",
      "           5       0.73      0.34      0.47        96\n",
      "\n",
      "   micro avg       0.32      0.32      0.32       202\n",
      "   macro avg       0.27      0.28      0.24       202\n",
      "weighted avg       0.49      0.32      0.36       202\n",
      "\n"
     ]
    }
   ],
   "source": [
    "y_pred = classifier.predict(X_test)  \n",
    "print(classification_report(y_test, y_pred))"
   ]
  },
  {
   "cell_type": "markdown",
   "metadata": {},
   "source": [
    "F-1 score: It computes the weighted average of precision and recall. A score closer to 1 is considered as good and 0 as bad. Here the f1-score is 47%\n",
    "\n",
    "### Confusion Matrix for Optimal K"
   ]
  },
  {
   "cell_type": "code",
   "execution_count": 611,
   "metadata": {},
   "outputs": [
    {
     "name": "stdout",
     "output_type": "stream",
     "text": [
      "[[ 1  0  1  1  0]\n",
      " [ 1  1  5  3  0]\n",
      " [ 2  6 10 10  2]\n",
      " [ 7 11 16 19 10]\n",
      " [ 8 15 16 24 33]]\n"
     ]
    }
   ],
   "source": [
    "print(confusion_matrix(y_test, y_pred))"
   ]
  },
  {
   "cell_type": "markdown",
   "metadata": {},
   "source": [
    "Seeing the above diagram we can say\n",
    "\n",
    "True Positives (TP): We tested for Positive (Will Have) & they actual have the correct ratings.\n",
    "\n",
    "True Negatives (TN): We tested for Negative (Will Not Have) & they actual don’t have the correct ratings.\n",
    "\n",
    "False Positives (FP): We tested for Positive (Will Have) & they actual don’t have correct ratings. (Also known as a “Type I error.”)\n",
    "\n",
    "False Negatives (FN): We tested for Negative (Will Not Have) & they actual have the correct ratings. (Also known as a “Type II error.”)\n",
    "\n",
    "As shown below, for K  = 5, the confusion matrix has true positives and False positives as 65 and 32 respectively that means it has predicted 65 times correctly that rating of the hotels from \n",
    "True Positives in total are 65 that is the number of time they have correct ratings \n",
    "1 - 1 \n",
    "2 - 1 \n",
    "3 - 10 \n",
    "4 - 19\n",
    "5 - 33\n",
    "\n",
    "\n",
    "#### For K = 13"
   ]
  },
  {
   "cell_type": "code",
   "execution_count": 615,
   "metadata": {},
   "outputs": [
    {
     "name": "stdout",
     "output_type": "stream",
     "text": [
      "[[ 2  0  0  1  0]\n",
      " [ 2  2  5  1  0]\n",
      " [ 3  5  9  9  4]\n",
      " [10 13 16 17  7]\n",
      " [18 19 14 22 23]]\n",
      "\n",
      "\n",
      "              precision    recall  f1-score   support\n",
      "\n",
      "           1       0.03      0.33      0.06         3\n",
      "           2       0.03      0.10      0.04        10\n",
      "           3       0.20      0.30      0.24        30\n",
      "           4       0.36      0.29      0.32        63\n",
      "           5       0.67      0.27      0.39        96\n",
      "\n",
      "   micro avg       0.27      0.27      0.27       202\n",
      "   macro avg       0.26      0.26      0.21       202\n",
      "weighted avg       0.46      0.27      0.32       202\n",
      "\n"
     ]
    }
   ],
   "source": [
    "classifier = KNeighborsClassifier(n_neighbors=13)  \n",
    "classifier.fit(X_train, y_train) \n",
    "print(confusion_matrix(y_test, y_pred))\n",
    "y_pred = classifier.predict(X_test)  \n",
    "print('\\n')\n",
    "print(classification_report(y_test, y_pred))"
   ]
  },
  {
   "cell_type": "markdown",
   "metadata": {},
   "source": [
    "As shown below, for K = 13, the confusion matrix has true positives and False positives as 65 and 32 respectively that means it has predicted 70 times correctly that rating of the hotels from \n",
    "True Positives in total are 70 that is the number of time they have correct ratings \n",
    "1 - 2\n",
    "2 - 3 \n",
    "3 - 9 \n",
    "4 - 17\n",
    "5 - 23\n",
    "\n",
    "\n",
    "#### For K = 20"
   ]
  },
  {
   "cell_type": "code",
   "execution_count": 617,
   "metadata": {},
   "outputs": [
    {
     "name": "stdout",
     "output_type": "stream",
     "text": [
      "[[ 2  0  0  1  0]\n",
      " [ 2  2  5  1  0]\n",
      " [ 3  5  9  9  4]\n",
      " [10 13 16 17  7]\n",
      " [18 19 14 22 23]]\n",
      "\n",
      "\n",
      "              precision    recall  f1-score   support\n",
      "\n",
      "           1       0.06      0.67      0.11         3\n",
      "           2       0.05      0.20      0.08        10\n",
      "           3       0.20      0.30      0.24        30\n",
      "           4       0.34      0.27      0.30        63\n",
      "           5       0.68      0.24      0.35        96\n",
      "\n",
      "   micro avg       0.26      0.26      0.26       202\n",
      "   macro avg       0.27      0.34      0.22       202\n",
      "weighted avg       0.46      0.26      0.30       202\n",
      "\n"
     ]
    }
   ],
   "source": [
    "classifier = KNeighborsClassifier(n_neighbors=20)  \n",
    "classifier.fit(X_train, y_train) \n",
    "print(confusion_matrix(y_test, y_pred))\n",
    "y_pred = classifier.predict(X_test)  \n",
    "print('\\n')\n",
    "print(classification_report(y_test, y_pred))"
   ]
  },
  {
   "cell_type": "markdown",
   "metadata": {},
   "source": [
    "As shown below, for K = 20, the confusion matrix has true positives and False positives as 65 and 32 respectively that means it has predicted 69 times correctly that rating of the hotels from \n",
    "True Positives in total are 69 that is the number of time they have correct ratings \n",
    "\n",
    "1 - 1\n",
    "2 - 1 \n",
    "3 - 9 \n",
    "4 - 18\n",
    "5 - 26\n",
    "\n",
    "\n",
    "### Calculate KNN score"
   ]
  },
  {
   "cell_type": "code",
   "execution_count": 614,
   "metadata": {},
   "outputs": [
    {
     "name": "stdout",
     "output_type": "stream",
     "text": [
      "Accuracy of K-NN classifier on training set: 0.56\n",
      "Accuracy of K-NN classifier on test set: 0.26\n"
     ]
    }
   ],
   "source": [
    "print('Accuracy of K-NN classifier on training set: {:.2f}'.format(knn.score(X_train, y_train)))\n",
    "print('Accuracy of K-NN classifier on test set: {:.2f}'.format(knn.score(X_test, y_test)))"
   ]
  },
  {
   "cell_type": "markdown",
   "metadata": {},
   "source": [
    "## Conclusion \n",
    "\n",
    "The rating were more towards 4,5 i.e data was baised.\n",
    "\n",
    "We followed the following steps :\n",
    "\n",
    "1) Used SMOTE technique to balance the data first. \n",
    "\n",
    "2) Transform Feature Values : we rescaled the data using StandardScaler\n",
    "\n",
    "After balancing the data y knn score predict score gave 26%. We can say KNN is not best technique to implement this particular Las vegas trip advisor dataset. We can use some other models to analyse this dataset and check the score.\n",
    "\n",
    "Moreover, one more method in KNN could try to increase the performance:\n",
    "\n",
    "Lower Dimensionality: KNN is suited for lower dimensional data. we can try it on high dimensional data (hundreds or thousands of input variables). KNN can benefit from feature selection that reduces the dimensionality of the input feature space this technique called PCA."
   ]
  },
  {
   "cell_type": "code",
   "execution_count": null,
   "metadata": {},
   "outputs": [],
   "source": []
  }
 ],
 "metadata": {
  "kernelspec": {
   "display_name": "Python 3",
   "language": "python",
   "name": "python3"
  },
  "language_info": {
   "codemirror_mode": {
    "name": "ipython",
    "version": 3
   },
   "file_extension": ".py",
   "mimetype": "text/x-python",
   "name": "python",
   "nbconvert_exporter": "python",
   "pygments_lexer": "ipython3",
   "version": "3.7.1"
  }
 },
 "nbformat": 4,
 "nbformat_minor": 2
}
